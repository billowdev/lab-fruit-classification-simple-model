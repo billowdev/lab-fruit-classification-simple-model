{
  "nbformat": 4,
  "nbformat_minor": 0,
  "metadata": {
    "colab": {
      "name": "abt_model_mobileNetV2.ipynb",
      "provenance": [],
      "collapsed_sections": [
        "oTVSWKgOJiWQ",
        "ve9qApo8JkiV",
        "xa8-H3urXRnF",
        "5K6jvVe0JsJk",
        "QItaUxB22MGq",
        "jSdywKyE5TmQ",
        "AQtZ0D9W8lQX",
        "l98JmqWa7foa",
        "bPmk_MAIIsbD",
        "2JuobFXJHNKF"
      ]
    },
    "kernelspec": {
      "name": "python3",
      "display_name": "Python 3"
    },
    "language_info": {
      "name": "python"
    },
    "accelerator": "GPU"
  },
  "cells": [
    {
      "cell_type": "markdown",
      "metadata": {
        "id": "Am0Tgipeej-F"
      },
      "source": [
        "# Apple Banana Tomato Classification Mobilenet_v2"
      ]
    },
    {
      "cell_type": "markdown",
      "metadata": {
        "id": "oTVSWKgOJiWQ"
      },
      "source": [
        "## Get images"
      ]
    },
    {
      "cell_type": "code",
      "metadata": {
        "colab": {
          "base_uri": "https://localhost:8080/"
        },
        "id": "wcEqWJYHW4l0",
        "outputId": "dd52c1b4-f339-4f93-d7ae-ceded33c3e5f"
      },
      "source": [
        "!git clone https://github.com/lacakp/fruit-ds.git"
      ],
      "execution_count": 50,
      "outputs": [
        {
          "output_type": "stream",
          "name": "stdout",
          "text": [
            "Cloning into 'fruit-ds'...\n",
            "remote: Enumerating objects: 17142, done.\u001b[K\n",
            "remote: Counting objects:   7% (1/13)\u001b[K\rremote: Counting objects:  15% (2/13)\u001b[K\rremote: Counting objects:  23% (3/13)\u001b[K\rremote: Counting objects:  30% (4/13)\u001b[K\rremote: Counting objects:  38% (5/13)\u001b[K\rremote: Counting objects:  46% (6/13)\u001b[K\rremote: Counting objects:  53% (7/13)\u001b[K\rremote: Counting objects:  61% (8/13)\u001b[K\rremote: Counting objects:  69% (9/13)\u001b[K\rremote: Counting objects:  76% (10/13)\u001b[K\rremote: Counting objects:  84% (11/13)\u001b[K\rremote: Counting objects:  92% (12/13)\u001b[K\rremote: Counting objects: 100% (13/13)\u001b[K\rremote: Counting objects: 100% (13/13), done.\u001b[K\n",
            "remote: Compressing objects: 100% (13/13), done.\u001b[K\n",
            "remote: Total 17142 (delta 0), reused 2 (delta 0), pack-reused 17129\u001b[K\n",
            "Receiving objects: 100% (17142/17142), 376.49 MiB | 34.57 MiB/s, done.\n",
            "Resolving deltas: 100% (46/46), done.\n"
          ]
        }
      ]
    },
    {
      "cell_type": "markdown",
      "metadata": {
        "id": "ve9qApo8JkiV"
      },
      "source": [
        "## Check images"
      ]
    },
    {
      "cell_type": "code",
      "metadata": {
        "colab": {
          "base_uri": "https://localhost:8080/"
        },
        "id": "TIgBA7KNYdY1",
        "outputId": "910e0556-2e61-43eb-c3e6-cc0420b0a437"
      },
      "source": [
        "print(\"All train image in 3 class apple, banana, tomato\")\n",
        "!ls /content/fruit-ds/train/*/* | wc -l \n",
        "\n",
        "print(\"\\n------------------\")\n",
        "\n",
        "print(\"Apple image count\")\n",
        "!ls /content/fruit-ds/train/apple/* | wc -l \n",
        "\n",
        "print(\"\\n------------------\")\n",
        "\n",
        "print(\"Banana Image Count\")\n",
        "!ls /content/fruit-ds/train/banana/* | wc -l \n",
        "\n",
        "print(\"\\n------------------\")\n",
        "\n",
        "print(\"Tomato Image Count\")\n",
        "!ls /content/fruit-ds/train/tomato/* | wc -l "
      ],
      "execution_count": 1,
      "outputs": [
        {
          "output_type": "stream",
          "name": "stdout",
          "text": [
            "All train image in 3 class apple, banana, tomato\n",
            "8003\n",
            "\n",
            "------------------\n",
            "Apple image count\n",
            "3354\n",
            "\n",
            "------------------\n",
            "Banana Image Count\n",
            "1430\n",
            "\n",
            "------------------\n",
            "Tomato Image Count\n",
            "3219\n"
          ]
        }
      ]
    },
    {
      "cell_type": "markdown",
      "metadata": {
        "id": "xa8-H3urXRnF"
      },
      "source": [
        "## import MobileNetV2"
      ]
    },
    {
      "cell_type": "code",
      "metadata": {
        "id": "BwVlr1ERXNo1"
      },
      "source": [
        "from keras.applications.mobilenet_v2 import MobileNetV2"
      ],
      "execution_count": 2,
      "outputs": []
    },
    {
      "cell_type": "code",
      "metadata": {
        "id": "aFhC0lqeXZpf"
      },
      "source": [
        "model = MobileNetV2(weights='imagenet')"
      ],
      "execution_count": 3,
      "outputs": []
    },
    {
      "cell_type": "markdown",
      "metadata": {
        "id": "5K6jvVe0JsJk"
      },
      "source": [
        "## Preparing train and validation data"
      ]
    },
    {
      "cell_type": "markdown",
      "metadata": {
        "id": "Oq-D5un4JxRU"
      },
      "source": [
        "### Import libraly"
      ]
    },
    {
      "cell_type": "code",
      "metadata": {
        "id": "sSbuhyzD6G-O"
      },
      "source": [
        "import tensorflow as tf\n",
        "from tensorflow import keras\n",
        "import matplotlib.pyplot as plt\n",
        "import numpy as np\n",
        "from keras.preprocessing.image import ImageDataGenerator\n",
        "from sklearn.metrics import classification_report, confusion_matrix"
      ],
      "execution_count": 4,
      "outputs": []
    },
    {
      "cell_type": "markdown",
      "metadata": {
        "id": "dHi9SvzyJza2"
      },
      "source": [
        "### Setting path and shape image"
      ]
    },
    {
      "cell_type": "code",
      "metadata": {
        "id": "MWnVl44T6KGH"
      },
      "source": [
        "train_data_path = '/content/fruit-ds/train'\n",
        "test_data_path = '/content/fruit-ds/test'\n",
        "height = 224\n",
        "width = 224\n",
        "batch_size = 32"
      ],
      "execution_count": 5,
      "outputs": []
    },
    {
      "cell_type": "markdown",
      "metadata": {
        "id": "1xNowE_bJ4xe"
      },
      "source": [
        "### Training data"
      ]
    },
    {
      "cell_type": "code",
      "metadata": {
        "colab": {
          "base_uri": "https://localhost:8080/"
        },
        "id": "u0on3esG6I-3",
        "outputId": "a0a2681b-1a58-4639-ca33-2ce74709ce51"
      },
      "source": [
        "train_ds = tf.keras.preprocessing.image_dataset_from_directory(\n",
        "    train_data_path,\n",
        "    validation_split = 0.3,\n",
        "    subset = 'training',\n",
        "    seed = 123,\n",
        "    image_size = (height, width),\n",
        "    batch_size = batch_size\n",
        ")"
      ],
      "execution_count": 6,
      "outputs": [
        {
          "output_type": "stream",
          "name": "stdout",
          "text": [
            "Found 8003 files belonging to 3 classes.\n",
            "Using 5603 files for training.\n"
          ]
        }
      ]
    },
    {
      "cell_type": "markdown",
      "metadata": {
        "id": "i_xfVaOiJ7nP"
      },
      "source": [
        "### Validation data"
      ]
    },
    {
      "cell_type": "code",
      "metadata": {
        "colab": {
          "base_uri": "https://localhost:8080/"
        },
        "id": "WNKq-o8o6NhQ",
        "outputId": "9fcd6628-6ac4-4725-8cd5-31afb04a7f30"
      },
      "source": [
        "val_ds = tf.keras.preprocessing.image_dataset_from_directory(\n",
        "    train_data_path,\n",
        "    validation_split = 0.3,\n",
        "    subset = 'validation',\n",
        "    seed = 123,\n",
        "    image_size = (height, width),\n",
        "    batch_size = batch_size\n",
        ")"
      ],
      "execution_count": 7,
      "outputs": [
        {
          "output_type": "stream",
          "name": "stdout",
          "text": [
            "Found 8003 files belonging to 3 classes.\n",
            "Using 2400 files for validation.\n"
          ]
        }
      ]
    },
    {
      "cell_type": "markdown",
      "metadata": {
        "id": "l_nApIsSbS1W"
      },
      "source": [
        "### Get Class"
      ]
    },
    {
      "cell_type": "code",
      "metadata": {
        "colab": {
          "base_uri": "https://localhost:8080/"
        },
        "id": "jae_dMyy6i-3",
        "outputId": "113eb4d0-267b-4ce8-d47b-1d19fb972739"
      },
      "source": [
        "classes = train_ds.class_names\n",
        "print(classes)\n",
        "print(train_ds)"
      ],
      "execution_count": 8,
      "outputs": [
        {
          "output_type": "stream",
          "name": "stdout",
          "text": [
            "['apple', 'banana', 'tomato']\n",
            "<BatchDataset shapes: ((None, 224, 224, 3), (None,)), types: (tf.float32, tf.int32)>\n"
          ]
        }
      ]
    },
    {
      "cell_type": "markdown",
      "metadata": {
        "id": "QItaUxB22MGq"
      },
      "source": [
        "## Modifying the model"
      ]
    },
    {
      "cell_type": "code",
      "metadata": {
        "colab": {
          "base_uri": "https://localhost:8080/"
        },
        "id": "iA-WyKO327yl",
        "outputId": "236da400-d7e4-4668-e136-6b11e03cfb12"
      },
      "source": [
        "model.summary()"
      ],
      "execution_count": 9,
      "outputs": [
        {
          "output_type": "stream",
          "name": "stdout",
          "text": [
            "Model: \"mobilenetv2_1.00_224\"\n",
            "__________________________________________________________________________________________________\n",
            "Layer (type)                    Output Shape         Param #     Connected to                     \n",
            "==================================================================================================\n",
            "input_1 (InputLayer)            [(None, 224, 224, 3) 0                                            \n",
            "__________________________________________________________________________________________________\n",
            "Conv1 (Conv2D)                  (None, 112, 112, 32) 864         input_1[0][0]                    \n",
            "__________________________________________________________________________________________________\n",
            "bn_Conv1 (BatchNormalization)   (None, 112, 112, 32) 128         Conv1[0][0]                      \n",
            "__________________________________________________________________________________________________\n",
            "Conv1_relu (ReLU)               (None, 112, 112, 32) 0           bn_Conv1[0][0]                   \n",
            "__________________________________________________________________________________________________\n",
            "expanded_conv_depthwise (Depthw (None, 112, 112, 32) 288         Conv1_relu[0][0]                 \n",
            "__________________________________________________________________________________________________\n",
            "expanded_conv_depthwise_BN (Bat (None, 112, 112, 32) 128         expanded_conv_depthwise[0][0]    \n",
            "__________________________________________________________________________________________________\n",
            "expanded_conv_depthwise_relu (R (None, 112, 112, 32) 0           expanded_conv_depthwise_BN[0][0] \n",
            "__________________________________________________________________________________________________\n",
            "expanded_conv_project (Conv2D)  (None, 112, 112, 16) 512         expanded_conv_depthwise_relu[0][0\n",
            "__________________________________________________________________________________________________\n",
            "expanded_conv_project_BN (Batch (None, 112, 112, 16) 64          expanded_conv_project[0][0]      \n",
            "__________________________________________________________________________________________________\n",
            "block_1_expand (Conv2D)         (None, 112, 112, 96) 1536        expanded_conv_project_BN[0][0]   \n",
            "__________________________________________________________________________________________________\n",
            "block_1_expand_BN (BatchNormali (None, 112, 112, 96) 384         block_1_expand[0][0]             \n",
            "__________________________________________________________________________________________________\n",
            "block_1_expand_relu (ReLU)      (None, 112, 112, 96) 0           block_1_expand_BN[0][0]          \n",
            "__________________________________________________________________________________________________\n",
            "block_1_pad (ZeroPadding2D)     (None, 113, 113, 96) 0           block_1_expand_relu[0][0]        \n",
            "__________________________________________________________________________________________________\n",
            "block_1_depthwise (DepthwiseCon (None, 56, 56, 96)   864         block_1_pad[0][0]                \n",
            "__________________________________________________________________________________________________\n",
            "block_1_depthwise_BN (BatchNorm (None, 56, 56, 96)   384         block_1_depthwise[0][0]          \n",
            "__________________________________________________________________________________________________\n",
            "block_1_depthwise_relu (ReLU)   (None, 56, 56, 96)   0           block_1_depthwise_BN[0][0]       \n",
            "__________________________________________________________________________________________________\n",
            "block_1_project (Conv2D)        (None, 56, 56, 24)   2304        block_1_depthwise_relu[0][0]     \n",
            "__________________________________________________________________________________________________\n",
            "block_1_project_BN (BatchNormal (None, 56, 56, 24)   96          block_1_project[0][0]            \n",
            "__________________________________________________________________________________________________\n",
            "block_2_expand (Conv2D)         (None, 56, 56, 144)  3456        block_1_project_BN[0][0]         \n",
            "__________________________________________________________________________________________________\n",
            "block_2_expand_BN (BatchNormali (None, 56, 56, 144)  576         block_2_expand[0][0]             \n",
            "__________________________________________________________________________________________________\n",
            "block_2_expand_relu (ReLU)      (None, 56, 56, 144)  0           block_2_expand_BN[0][0]          \n",
            "__________________________________________________________________________________________________\n",
            "block_2_depthwise (DepthwiseCon (None, 56, 56, 144)  1296        block_2_expand_relu[0][0]        \n",
            "__________________________________________________________________________________________________\n",
            "block_2_depthwise_BN (BatchNorm (None, 56, 56, 144)  576         block_2_depthwise[0][0]          \n",
            "__________________________________________________________________________________________________\n",
            "block_2_depthwise_relu (ReLU)   (None, 56, 56, 144)  0           block_2_depthwise_BN[0][0]       \n",
            "__________________________________________________________________________________________________\n",
            "block_2_project (Conv2D)        (None, 56, 56, 24)   3456        block_2_depthwise_relu[0][0]     \n",
            "__________________________________________________________________________________________________\n",
            "block_2_project_BN (BatchNormal (None, 56, 56, 24)   96          block_2_project[0][0]            \n",
            "__________________________________________________________________________________________________\n",
            "block_2_add (Add)               (None, 56, 56, 24)   0           block_1_project_BN[0][0]         \n",
            "                                                                 block_2_project_BN[0][0]         \n",
            "__________________________________________________________________________________________________\n",
            "block_3_expand (Conv2D)         (None, 56, 56, 144)  3456        block_2_add[0][0]                \n",
            "__________________________________________________________________________________________________\n",
            "block_3_expand_BN (BatchNormali (None, 56, 56, 144)  576         block_3_expand[0][0]             \n",
            "__________________________________________________________________________________________________\n",
            "block_3_expand_relu (ReLU)      (None, 56, 56, 144)  0           block_3_expand_BN[0][0]          \n",
            "__________________________________________________________________________________________________\n",
            "block_3_pad (ZeroPadding2D)     (None, 57, 57, 144)  0           block_3_expand_relu[0][0]        \n",
            "__________________________________________________________________________________________________\n",
            "block_3_depthwise (DepthwiseCon (None, 28, 28, 144)  1296        block_3_pad[0][0]                \n",
            "__________________________________________________________________________________________________\n",
            "block_3_depthwise_BN (BatchNorm (None, 28, 28, 144)  576         block_3_depthwise[0][0]          \n",
            "__________________________________________________________________________________________________\n",
            "block_3_depthwise_relu (ReLU)   (None, 28, 28, 144)  0           block_3_depthwise_BN[0][0]       \n",
            "__________________________________________________________________________________________________\n",
            "block_3_project (Conv2D)        (None, 28, 28, 32)   4608        block_3_depthwise_relu[0][0]     \n",
            "__________________________________________________________________________________________________\n",
            "block_3_project_BN (BatchNormal (None, 28, 28, 32)   128         block_3_project[0][0]            \n",
            "__________________________________________________________________________________________________\n",
            "block_4_expand (Conv2D)         (None, 28, 28, 192)  6144        block_3_project_BN[0][0]         \n",
            "__________________________________________________________________________________________________\n",
            "block_4_expand_BN (BatchNormali (None, 28, 28, 192)  768         block_4_expand[0][0]             \n",
            "__________________________________________________________________________________________________\n",
            "block_4_expand_relu (ReLU)      (None, 28, 28, 192)  0           block_4_expand_BN[0][0]          \n",
            "__________________________________________________________________________________________________\n",
            "block_4_depthwise (DepthwiseCon (None, 28, 28, 192)  1728        block_4_expand_relu[0][0]        \n",
            "__________________________________________________________________________________________________\n",
            "block_4_depthwise_BN (BatchNorm (None, 28, 28, 192)  768         block_4_depthwise[0][0]          \n",
            "__________________________________________________________________________________________________\n",
            "block_4_depthwise_relu (ReLU)   (None, 28, 28, 192)  0           block_4_depthwise_BN[0][0]       \n",
            "__________________________________________________________________________________________________\n",
            "block_4_project (Conv2D)        (None, 28, 28, 32)   6144        block_4_depthwise_relu[0][0]     \n",
            "__________________________________________________________________________________________________\n",
            "block_4_project_BN (BatchNormal (None, 28, 28, 32)   128         block_4_project[0][0]            \n",
            "__________________________________________________________________________________________________\n",
            "block_4_add (Add)               (None, 28, 28, 32)   0           block_3_project_BN[0][0]         \n",
            "                                                                 block_4_project_BN[0][0]         \n",
            "__________________________________________________________________________________________________\n",
            "block_5_expand (Conv2D)         (None, 28, 28, 192)  6144        block_4_add[0][0]                \n",
            "__________________________________________________________________________________________________\n",
            "block_5_expand_BN (BatchNormali (None, 28, 28, 192)  768         block_5_expand[0][0]             \n",
            "__________________________________________________________________________________________________\n",
            "block_5_expand_relu (ReLU)      (None, 28, 28, 192)  0           block_5_expand_BN[0][0]          \n",
            "__________________________________________________________________________________________________\n",
            "block_5_depthwise (DepthwiseCon (None, 28, 28, 192)  1728        block_5_expand_relu[0][0]        \n",
            "__________________________________________________________________________________________________\n",
            "block_5_depthwise_BN (BatchNorm (None, 28, 28, 192)  768         block_5_depthwise[0][0]          \n",
            "__________________________________________________________________________________________________\n",
            "block_5_depthwise_relu (ReLU)   (None, 28, 28, 192)  0           block_5_depthwise_BN[0][0]       \n",
            "__________________________________________________________________________________________________\n",
            "block_5_project (Conv2D)        (None, 28, 28, 32)   6144        block_5_depthwise_relu[0][0]     \n",
            "__________________________________________________________________________________________________\n",
            "block_5_project_BN (BatchNormal (None, 28, 28, 32)   128         block_5_project[0][0]            \n",
            "__________________________________________________________________________________________________\n",
            "block_5_add (Add)               (None, 28, 28, 32)   0           block_4_add[0][0]                \n",
            "                                                                 block_5_project_BN[0][0]         \n",
            "__________________________________________________________________________________________________\n",
            "block_6_expand (Conv2D)         (None, 28, 28, 192)  6144        block_5_add[0][0]                \n",
            "__________________________________________________________________________________________________\n",
            "block_6_expand_BN (BatchNormali (None, 28, 28, 192)  768         block_6_expand[0][0]             \n",
            "__________________________________________________________________________________________________\n",
            "block_6_expand_relu (ReLU)      (None, 28, 28, 192)  0           block_6_expand_BN[0][0]          \n",
            "__________________________________________________________________________________________________\n",
            "block_6_pad (ZeroPadding2D)     (None, 29, 29, 192)  0           block_6_expand_relu[0][0]        \n",
            "__________________________________________________________________________________________________\n",
            "block_6_depthwise (DepthwiseCon (None, 14, 14, 192)  1728        block_6_pad[0][0]                \n",
            "__________________________________________________________________________________________________\n",
            "block_6_depthwise_BN (BatchNorm (None, 14, 14, 192)  768         block_6_depthwise[0][0]          \n",
            "__________________________________________________________________________________________________\n",
            "block_6_depthwise_relu (ReLU)   (None, 14, 14, 192)  0           block_6_depthwise_BN[0][0]       \n",
            "__________________________________________________________________________________________________\n",
            "block_6_project (Conv2D)        (None, 14, 14, 64)   12288       block_6_depthwise_relu[0][0]     \n",
            "__________________________________________________________________________________________________\n",
            "block_6_project_BN (BatchNormal (None, 14, 14, 64)   256         block_6_project[0][0]            \n",
            "__________________________________________________________________________________________________\n",
            "block_7_expand (Conv2D)         (None, 14, 14, 384)  24576       block_6_project_BN[0][0]         \n",
            "__________________________________________________________________________________________________\n",
            "block_7_expand_BN (BatchNormali (None, 14, 14, 384)  1536        block_7_expand[0][0]             \n",
            "__________________________________________________________________________________________________\n",
            "block_7_expand_relu (ReLU)      (None, 14, 14, 384)  0           block_7_expand_BN[0][0]          \n",
            "__________________________________________________________________________________________________\n",
            "block_7_depthwise (DepthwiseCon (None, 14, 14, 384)  3456        block_7_expand_relu[0][0]        \n",
            "__________________________________________________________________________________________________\n",
            "block_7_depthwise_BN (BatchNorm (None, 14, 14, 384)  1536        block_7_depthwise[0][0]          \n",
            "__________________________________________________________________________________________________\n",
            "block_7_depthwise_relu (ReLU)   (None, 14, 14, 384)  0           block_7_depthwise_BN[0][0]       \n",
            "__________________________________________________________________________________________________\n",
            "block_7_project (Conv2D)        (None, 14, 14, 64)   24576       block_7_depthwise_relu[0][0]     \n",
            "__________________________________________________________________________________________________\n",
            "block_7_project_BN (BatchNormal (None, 14, 14, 64)   256         block_7_project[0][0]            \n",
            "__________________________________________________________________________________________________\n",
            "block_7_add (Add)               (None, 14, 14, 64)   0           block_6_project_BN[0][0]         \n",
            "                                                                 block_7_project_BN[0][0]         \n",
            "__________________________________________________________________________________________________\n",
            "block_8_expand (Conv2D)         (None, 14, 14, 384)  24576       block_7_add[0][0]                \n",
            "__________________________________________________________________________________________________\n",
            "block_8_expand_BN (BatchNormali (None, 14, 14, 384)  1536        block_8_expand[0][0]             \n",
            "__________________________________________________________________________________________________\n",
            "block_8_expand_relu (ReLU)      (None, 14, 14, 384)  0           block_8_expand_BN[0][0]          \n",
            "__________________________________________________________________________________________________\n",
            "block_8_depthwise (DepthwiseCon (None, 14, 14, 384)  3456        block_8_expand_relu[0][0]        \n",
            "__________________________________________________________________________________________________\n",
            "block_8_depthwise_BN (BatchNorm (None, 14, 14, 384)  1536        block_8_depthwise[0][0]          \n",
            "__________________________________________________________________________________________________\n",
            "block_8_depthwise_relu (ReLU)   (None, 14, 14, 384)  0           block_8_depthwise_BN[0][0]       \n",
            "__________________________________________________________________________________________________\n",
            "block_8_project (Conv2D)        (None, 14, 14, 64)   24576       block_8_depthwise_relu[0][0]     \n",
            "__________________________________________________________________________________________________\n",
            "block_8_project_BN (BatchNormal (None, 14, 14, 64)   256         block_8_project[0][0]            \n",
            "__________________________________________________________________________________________________\n",
            "block_8_add (Add)               (None, 14, 14, 64)   0           block_7_add[0][0]                \n",
            "                                                                 block_8_project_BN[0][0]         \n",
            "__________________________________________________________________________________________________\n",
            "block_9_expand (Conv2D)         (None, 14, 14, 384)  24576       block_8_add[0][0]                \n",
            "__________________________________________________________________________________________________\n",
            "block_9_expand_BN (BatchNormali (None, 14, 14, 384)  1536        block_9_expand[0][0]             \n",
            "__________________________________________________________________________________________________\n",
            "block_9_expand_relu (ReLU)      (None, 14, 14, 384)  0           block_9_expand_BN[0][0]          \n",
            "__________________________________________________________________________________________________\n",
            "block_9_depthwise (DepthwiseCon (None, 14, 14, 384)  3456        block_9_expand_relu[0][0]        \n",
            "__________________________________________________________________________________________________\n",
            "block_9_depthwise_BN (BatchNorm (None, 14, 14, 384)  1536        block_9_depthwise[0][0]          \n",
            "__________________________________________________________________________________________________\n",
            "block_9_depthwise_relu (ReLU)   (None, 14, 14, 384)  0           block_9_depthwise_BN[0][0]       \n",
            "__________________________________________________________________________________________________\n",
            "block_9_project (Conv2D)        (None, 14, 14, 64)   24576       block_9_depthwise_relu[0][0]     \n",
            "__________________________________________________________________________________________________\n",
            "block_9_project_BN (BatchNormal (None, 14, 14, 64)   256         block_9_project[0][0]            \n",
            "__________________________________________________________________________________________________\n",
            "block_9_add (Add)               (None, 14, 14, 64)   0           block_8_add[0][0]                \n",
            "                                                                 block_9_project_BN[0][0]         \n",
            "__________________________________________________________________________________________________\n",
            "block_10_expand (Conv2D)        (None, 14, 14, 384)  24576       block_9_add[0][0]                \n",
            "__________________________________________________________________________________________________\n",
            "block_10_expand_BN (BatchNormal (None, 14, 14, 384)  1536        block_10_expand[0][0]            \n",
            "__________________________________________________________________________________________________\n",
            "block_10_expand_relu (ReLU)     (None, 14, 14, 384)  0           block_10_expand_BN[0][0]         \n",
            "__________________________________________________________________________________________________\n",
            "block_10_depthwise (DepthwiseCo (None, 14, 14, 384)  3456        block_10_expand_relu[0][0]       \n",
            "__________________________________________________________________________________________________\n",
            "block_10_depthwise_BN (BatchNor (None, 14, 14, 384)  1536        block_10_depthwise[0][0]         \n",
            "__________________________________________________________________________________________________\n",
            "block_10_depthwise_relu (ReLU)  (None, 14, 14, 384)  0           block_10_depthwise_BN[0][0]      \n",
            "__________________________________________________________________________________________________\n",
            "block_10_project (Conv2D)       (None, 14, 14, 96)   36864       block_10_depthwise_relu[0][0]    \n",
            "__________________________________________________________________________________________________\n",
            "block_10_project_BN (BatchNorma (None, 14, 14, 96)   384         block_10_project[0][0]           \n",
            "__________________________________________________________________________________________________\n",
            "block_11_expand (Conv2D)        (None, 14, 14, 576)  55296       block_10_project_BN[0][0]        \n",
            "__________________________________________________________________________________________________\n",
            "block_11_expand_BN (BatchNormal (None, 14, 14, 576)  2304        block_11_expand[0][0]            \n",
            "__________________________________________________________________________________________________\n",
            "block_11_expand_relu (ReLU)     (None, 14, 14, 576)  0           block_11_expand_BN[0][0]         \n",
            "__________________________________________________________________________________________________\n",
            "block_11_depthwise (DepthwiseCo (None, 14, 14, 576)  5184        block_11_expand_relu[0][0]       \n",
            "__________________________________________________________________________________________________\n",
            "block_11_depthwise_BN (BatchNor (None, 14, 14, 576)  2304        block_11_depthwise[0][0]         \n",
            "__________________________________________________________________________________________________\n",
            "block_11_depthwise_relu (ReLU)  (None, 14, 14, 576)  0           block_11_depthwise_BN[0][0]      \n",
            "__________________________________________________________________________________________________\n",
            "block_11_project (Conv2D)       (None, 14, 14, 96)   55296       block_11_depthwise_relu[0][0]    \n",
            "__________________________________________________________________________________________________\n",
            "block_11_project_BN (BatchNorma (None, 14, 14, 96)   384         block_11_project[0][0]           \n",
            "__________________________________________________________________________________________________\n",
            "block_11_add (Add)              (None, 14, 14, 96)   0           block_10_project_BN[0][0]        \n",
            "                                                                 block_11_project_BN[0][0]        \n",
            "__________________________________________________________________________________________________\n",
            "block_12_expand (Conv2D)        (None, 14, 14, 576)  55296       block_11_add[0][0]               \n",
            "__________________________________________________________________________________________________\n",
            "block_12_expand_BN (BatchNormal (None, 14, 14, 576)  2304        block_12_expand[0][0]            \n",
            "__________________________________________________________________________________________________\n",
            "block_12_expand_relu (ReLU)     (None, 14, 14, 576)  0           block_12_expand_BN[0][0]         \n",
            "__________________________________________________________________________________________________\n",
            "block_12_depthwise (DepthwiseCo (None, 14, 14, 576)  5184        block_12_expand_relu[0][0]       \n",
            "__________________________________________________________________________________________________\n",
            "block_12_depthwise_BN (BatchNor (None, 14, 14, 576)  2304        block_12_depthwise[0][0]         \n",
            "__________________________________________________________________________________________________\n",
            "block_12_depthwise_relu (ReLU)  (None, 14, 14, 576)  0           block_12_depthwise_BN[0][0]      \n",
            "__________________________________________________________________________________________________\n",
            "block_12_project (Conv2D)       (None, 14, 14, 96)   55296       block_12_depthwise_relu[0][0]    \n",
            "__________________________________________________________________________________________________\n",
            "block_12_project_BN (BatchNorma (None, 14, 14, 96)   384         block_12_project[0][0]           \n",
            "__________________________________________________________________________________________________\n",
            "block_12_add (Add)              (None, 14, 14, 96)   0           block_11_add[0][0]               \n",
            "                                                                 block_12_project_BN[0][0]        \n",
            "__________________________________________________________________________________________________\n",
            "block_13_expand (Conv2D)        (None, 14, 14, 576)  55296       block_12_add[0][0]               \n",
            "__________________________________________________________________________________________________\n",
            "block_13_expand_BN (BatchNormal (None, 14, 14, 576)  2304        block_13_expand[0][0]            \n",
            "__________________________________________________________________________________________________\n",
            "block_13_expand_relu (ReLU)     (None, 14, 14, 576)  0           block_13_expand_BN[0][0]         \n",
            "__________________________________________________________________________________________________\n",
            "block_13_pad (ZeroPadding2D)    (None, 15, 15, 576)  0           block_13_expand_relu[0][0]       \n",
            "__________________________________________________________________________________________________\n",
            "block_13_depthwise (DepthwiseCo (None, 7, 7, 576)    5184        block_13_pad[0][0]               \n",
            "__________________________________________________________________________________________________\n",
            "block_13_depthwise_BN (BatchNor (None, 7, 7, 576)    2304        block_13_depthwise[0][0]         \n",
            "__________________________________________________________________________________________________\n",
            "block_13_depthwise_relu (ReLU)  (None, 7, 7, 576)    0           block_13_depthwise_BN[0][0]      \n",
            "__________________________________________________________________________________________________\n",
            "block_13_project (Conv2D)       (None, 7, 7, 160)    92160       block_13_depthwise_relu[0][0]    \n",
            "__________________________________________________________________________________________________\n",
            "block_13_project_BN (BatchNorma (None, 7, 7, 160)    640         block_13_project[0][0]           \n",
            "__________________________________________________________________________________________________\n",
            "block_14_expand (Conv2D)        (None, 7, 7, 960)    153600      block_13_project_BN[0][0]        \n",
            "__________________________________________________________________________________________________\n",
            "block_14_expand_BN (BatchNormal (None, 7, 7, 960)    3840        block_14_expand[0][0]            \n",
            "__________________________________________________________________________________________________\n",
            "block_14_expand_relu (ReLU)     (None, 7, 7, 960)    0           block_14_expand_BN[0][0]         \n",
            "__________________________________________________________________________________________________\n",
            "block_14_depthwise (DepthwiseCo (None, 7, 7, 960)    8640        block_14_expand_relu[0][0]       \n",
            "__________________________________________________________________________________________________\n",
            "block_14_depthwise_BN (BatchNor (None, 7, 7, 960)    3840        block_14_depthwise[0][0]         \n",
            "__________________________________________________________________________________________________\n",
            "block_14_depthwise_relu (ReLU)  (None, 7, 7, 960)    0           block_14_depthwise_BN[0][0]      \n",
            "__________________________________________________________________________________________________\n",
            "block_14_project (Conv2D)       (None, 7, 7, 160)    153600      block_14_depthwise_relu[0][0]    \n",
            "__________________________________________________________________________________________________\n",
            "block_14_project_BN (BatchNorma (None, 7, 7, 160)    640         block_14_project[0][0]           \n",
            "__________________________________________________________________________________________________\n",
            "block_14_add (Add)              (None, 7, 7, 160)    0           block_13_project_BN[0][0]        \n",
            "                                                                 block_14_project_BN[0][0]        \n",
            "__________________________________________________________________________________________________\n",
            "block_15_expand (Conv2D)        (None, 7, 7, 960)    153600      block_14_add[0][0]               \n",
            "__________________________________________________________________________________________________\n",
            "block_15_expand_BN (BatchNormal (None, 7, 7, 960)    3840        block_15_expand[0][0]            \n",
            "__________________________________________________________________________________________________\n",
            "block_15_expand_relu (ReLU)     (None, 7, 7, 960)    0           block_15_expand_BN[0][0]         \n",
            "__________________________________________________________________________________________________\n",
            "block_15_depthwise (DepthwiseCo (None, 7, 7, 960)    8640        block_15_expand_relu[0][0]       \n",
            "__________________________________________________________________________________________________\n",
            "block_15_depthwise_BN (BatchNor (None, 7, 7, 960)    3840        block_15_depthwise[0][0]         \n",
            "__________________________________________________________________________________________________\n",
            "block_15_depthwise_relu (ReLU)  (None, 7, 7, 960)    0           block_15_depthwise_BN[0][0]      \n",
            "__________________________________________________________________________________________________\n",
            "block_15_project (Conv2D)       (None, 7, 7, 160)    153600      block_15_depthwise_relu[0][0]    \n",
            "__________________________________________________________________________________________________\n",
            "block_15_project_BN (BatchNorma (None, 7, 7, 160)    640         block_15_project[0][0]           \n",
            "__________________________________________________________________________________________________\n",
            "block_15_add (Add)              (None, 7, 7, 160)    0           block_14_add[0][0]               \n",
            "                                                                 block_15_project_BN[0][0]        \n",
            "__________________________________________________________________________________________________\n",
            "block_16_expand (Conv2D)        (None, 7, 7, 960)    153600      block_15_add[0][0]               \n",
            "__________________________________________________________________________________________________\n",
            "block_16_expand_BN (BatchNormal (None, 7, 7, 960)    3840        block_16_expand[0][0]            \n",
            "__________________________________________________________________________________________________\n",
            "block_16_expand_relu (ReLU)     (None, 7, 7, 960)    0           block_16_expand_BN[0][0]         \n",
            "__________________________________________________________________________________________________\n",
            "block_16_depthwise (DepthwiseCo (None, 7, 7, 960)    8640        block_16_expand_relu[0][0]       \n",
            "__________________________________________________________________________________________________\n",
            "block_16_depthwise_BN (BatchNor (None, 7, 7, 960)    3840        block_16_depthwise[0][0]         \n",
            "__________________________________________________________________________________________________\n",
            "block_16_depthwise_relu (ReLU)  (None, 7, 7, 960)    0           block_16_depthwise_BN[0][0]      \n",
            "__________________________________________________________________________________________________\n",
            "block_16_project (Conv2D)       (None, 7, 7, 320)    307200      block_16_depthwise_relu[0][0]    \n",
            "__________________________________________________________________________________________________\n",
            "block_16_project_BN (BatchNorma (None, 7, 7, 320)    1280        block_16_project[0][0]           \n",
            "__________________________________________________________________________________________________\n",
            "Conv_1 (Conv2D)                 (None, 7, 7, 1280)   409600      block_16_project_BN[0][0]        \n",
            "__________________________________________________________________________________________________\n",
            "Conv_1_bn (BatchNormalization)  (None, 7, 7, 1280)   5120        Conv_1[0][0]                     \n",
            "__________________________________________________________________________________________________\n",
            "out_relu (ReLU)                 (None, 7, 7, 1280)   0           Conv_1_bn[0][0]                  \n",
            "__________________________________________________________________________________________________\n",
            "global_average_pooling2d (Globa (None, 1280)         0           out_relu[0][0]                   \n",
            "__________________________________________________________________________________________________\n",
            "predictions (Dense)             (None, 1000)         1281000     global_average_pooling2d[0][0]   \n",
            "==================================================================================================\n",
            "Total params: 3,538,984\n",
            "Trainable params: 3,504,872\n",
            "Non-trainable params: 34,112\n",
            "__________________________________________________________________________________________________\n"
          ]
        }
      ]
    },
    {
      "cell_type": "markdown",
      "metadata": {
        "id": "TjibsBqfKBsE"
      },
      "source": [
        "### import libraly"
      ]
    },
    {
      "cell_type": "code",
      "metadata": {
        "id": "5iYXq93M2OVa"
      },
      "source": [
        "from keras import Model\n",
        "from keras.layers import Dense"
      ],
      "execution_count": 10,
      "outputs": []
    },
    {
      "cell_type": "markdown",
      "metadata": {
        "id": "6avStoTSKEg9"
      },
      "source": [
        "### Custom model"
      ]
    },
    {
      "cell_type": "code",
      "metadata": {
        "id": "LFHN_nkK2an3"
      },
      "source": [
        "abt_output = Dense(3, activation='softmax')\n",
        "abt_output = abt_output(model.layers[-2].output)\n",
        "\n",
        "abt_input = model.input\n",
        "abt_model = Model(inputs=abt_input, outputs=abt_output)\n",
        "\n",
        "for layer in abt_model.layers[:-1]:\n",
        "  layer.trainable = False"
      ],
      "execution_count": 11,
      "outputs": []
    },
    {
      "cell_type": "markdown",
      "metadata": {
        "id": "Hv_a7xdS418h"
      },
      "source": [
        "### Compile model"
      ]
    },
    {
      "cell_type": "code",
      "metadata": {
        "id": "_Up9qJIZ29_H"
      },
      "source": [
        "abt_model.compile(\n",
        "    loss='sparse_categorical_crossentropy',\n",
        "    optimizer='adam',\n",
        "    metrics=['accuracy']\n",
        ")"
      ],
      "execution_count": 12,
      "outputs": []
    },
    {
      "cell_type": "markdown",
      "metadata": {
        "id": "jSdywKyE5TmQ"
      },
      "source": [
        "## Training the model"
      ]
    },
    {
      "cell_type": "code",
      "metadata": {
        "colab": {
          "base_uri": "https://localhost:8080/"
        },
        "id": "lknPNIS15TNG",
        "outputId": "835c8b70-7ffa-4ba9-b444-69dc51035f5e"
      },
      "source": [
        "ABTFruit = abt_model.fit(train_ds,\n",
        "                     validation_data = val_ds, \n",
        "                     epochs=10\n",
        "                     )"
      ],
      "execution_count": 13,
      "outputs": [
        {
          "output_type": "stream",
          "name": "stdout",
          "text": [
            "Epoch 1/10\n",
            "176/176 [==============================] - 29s 134ms/step - loss: 0.2481 - accuracy: 0.9311 - val_loss: 0.0812 - val_accuracy: 0.9954\n",
            "Epoch 2/10\n",
            "176/176 [==============================] - 22s 127ms/step - loss: 0.0611 - accuracy: 0.9950 - val_loss: 0.0407 - val_accuracy: 0.9983\n",
            "Epoch 3/10\n",
            "176/176 [==============================] - 23s 127ms/step - loss: 0.0353 - accuracy: 0.9973 - val_loss: 0.0264 - val_accuracy: 0.9987\n",
            "Epoch 4/10\n",
            "176/176 [==============================] - 22s 126ms/step - loss: 0.0243 - accuracy: 0.9986 - val_loss: 0.0192 - val_accuracy: 0.9992\n",
            "Epoch 5/10\n",
            "176/176 [==============================] - 23s 127ms/step - loss: 0.0178 - accuracy: 0.9991 - val_loss: 0.0145 - val_accuracy: 0.9992\n",
            "Epoch 6/10\n",
            "176/176 [==============================] - 22s 126ms/step - loss: 0.0138 - accuracy: 0.9996 - val_loss: 0.0115 - val_accuracy: 0.9996\n",
            "Epoch 7/10\n",
            "176/176 [==============================] - 22s 126ms/step - loss: 0.0112 - accuracy: 0.9996 - val_loss: 0.0095 - val_accuracy: 0.9996\n",
            "Epoch 8/10\n",
            "176/176 [==============================] - 22s 126ms/step - loss: 0.0092 - accuracy: 0.9998 - val_loss: 0.0081 - val_accuracy: 1.0000\n",
            "Epoch 9/10\n",
            "176/176 [==============================] - 23s 128ms/step - loss: 0.0075 - accuracy: 1.0000 - val_loss: 0.0067 - val_accuracy: 1.0000\n",
            "Epoch 10/10\n",
            "176/176 [==============================] - 22s 126ms/step - loss: 0.0064 - accuracy: 0.9998 - val_loss: 0.0059 - val_accuracy: 1.0000\n"
          ]
        }
      ]
    },
    {
      "cell_type": "code",
      "metadata": {
        "id": "qn-4It6dQIRZ"
      },
      "source": [
        ""
      ],
      "execution_count": null,
      "outputs": []
    },
    {
      "cell_type": "markdown",
      "metadata": {
        "id": "AQtZ0D9W8lQX"
      },
      "source": [
        "## Graph"
      ]
    },
    {
      "cell_type": "code",
      "metadata": {
        "id": "OykiQaTu9THJ",
        "colab": {
          "base_uri": "https://localhost:8080/",
          "height": 295
        },
        "outputId": "035ec11b-ed85-40a8-fa9c-d910ab2c21c2"
      },
      "source": [
        "# Model Accuracy\n",
        "plt.plot(ABTFruit.history['accuracy'])\n",
        "plt.plot(ABTFruit.history['val_accuracy'])\n",
        "plt.axis(ymin=0.8, ymax=1)\n",
        "plt.grid()\n",
        "plt.title('Model Accuracy')\n",
        "plt.ylabel('Accuracy')\n",
        "plt.xlabel('Epochs')\n",
        "plt.legend(['train', 'validation'])\n",
        "plt.show()"
      ],
      "execution_count": 14,
      "outputs": [
        {
          "output_type": "display_data",
          "data": {
            "image/png": "[encoded data removed]",
            "text/plain": [
              "<Figure size 432x288 with 1 Axes>"
            ]
          },
          "metadata": {
            "needs_background": "light"
          }
        }
      ]
    },
    {
      "cell_type": "code",
      "metadata": {
        "colab": {
          "base_uri": "https://localhost:8080/",
          "height": 295
        },
        "id": "wV0qKVzD8uQG",
        "outputId": "0566588b-ab85-45d5-a41a-01366034133a"
      },
      "source": [
        "# Model Loss\n",
        "plt.plot(ABTFruit.history['loss'])\n",
        "plt.plot(ABTFruit.history['val_loss'])\n",
        "plt.grid()\n",
        "plt.title('Model Loss')\n",
        "plt.ylabel('Loss')\n",
        "plt.xlabel('Epochs')\n",
        "plt.legend(['train', 'validation'])\n",
        "plt.show()"
      ],
      "execution_count": 15,
      "outputs": [
        {
          "output_type": "display_data",
          "data": {
            "image/png": "[encoded data removed]",
            "text/plain": [
              "<Figure size 432x288 with 1 Axes>"
            ]
          },
          "metadata": {
            "needs_background": "light"
          }
        }
      ]
    },
    {
      "cell_type": "markdown",
      "metadata": {
        "id": "l98JmqWa7foa"
      },
      "source": [
        "## Predictions"
      ]
    },
    {
      "cell_type": "markdown",
      "metadata": {
        "id": "W72-ZfmCKTxX"
      },
      "source": [
        "### Import library"
      ]
    },
    {
      "cell_type": "code",
      "metadata": {
        "id": "krj6B6EY7mLp"
      },
      "source": [
        "import numpy as np\n",
        "import cv2\n",
        "from google.colab.patches import cv2_imshow\n",
        "from skimage.transform import resize"
      ],
      "execution_count": 33,
      "outputs": []
    },
    {
      "cell_type": "markdown",
      "metadata": {
        "id": "rIDMADcbHK18"
      },
      "source": [
        "### Prediction values"
      ]
    },
    {
      "cell_type": "code",
      "metadata": {
        "id": "Tuvuwn8h7ixX",
        "colab": {
          "base_uri": "https://localhost:8080/"
        },
        "outputId": "3fa11f22-07fe-4690-8e46-dbfaed63417e"
      },
      "source": [
        "image = cv2.imread('/content/fruit-ds/test/apple/apple (10).jpg')\n",
        "\n",
        "resized = cv2.resize(image, (224, 224))\n",
        "img_array = tf.keras.preprocessing.image.img_to_array(resized)\n",
        "img_array = tf.expand_dims(img_array, 0)\n",
        "pred = abt_model.predict(img_array)\n",
        "print(pred)"
      ],
      "execution_count": 51,
      "outputs": [
        {
          "output_type": "stream",
          "name": "stdout",
          "text": [
            "[[0.75518745 0.08155333 0.16325916]]\n"
          ]
        }
      ]
    },
    {
      "cell_type": "code",
      "metadata": {
        "colab": {
          "base_uri": "https://localhost:8080/"
        },
        "id": "8S1M58_gCHxT",
        "outputId": "8646b360-f72a-481f-89e5-e7e63946370d"
      },
      "source": [
        "score = pred[0]\n",
        "print(score)\n",
        "print(\"แอปเปิล {:.2f} %\".format(score[0]*100))\n",
        "print(\"กล้วย {:.2f} %\".format(score[1]*100))\n",
        "print(\"มะเขือเทศ {:.2f} %\".format(score[2]*100))"
      ],
      "execution_count": 52,
      "outputs": [
        {
          "output_type": "stream",
          "name": "stdout",
          "text": [
            "[0.75518745 0.08155333 0.16325916]\n",
            "แอปเปิล 75.52 %\n",
            "กล้วย 8.16 %\n",
            "มะเขือเทศ 16.33 %\n"
          ]
        }
      ]
    },
    {
      "cell_type": "code",
      "metadata": {
        "id": "BpTIn2Z9QHMR"
      },
      "source": [
        ""
      ],
      "execution_count": null,
      "outputs": []
    },
    {
      "cell_type": "markdown",
      "metadata": {
        "id": "bPmk_MAIIsbD"
      },
      "source": [
        "## prediction from test image"
      ]
    },
    {
      "cell_type": "markdown",
      "metadata": {
        "id": "Qb8tBNAbKchO"
      },
      "source": [
        "### Setting path of test images"
      ]
    },
    {
      "cell_type": "code",
      "metadata": {
        "id": "lC3ENsm-ANsJ"
      },
      "source": [
        "test_data_path = '/content/fruit-ds/test'"
      ],
      "execution_count": 53,
      "outputs": []
    },
    {
      "cell_type": "markdown",
      "metadata": {
        "id": "2ZtacZqNKfG2"
      },
      "source": [
        "### Prediction function"
      ]
    },
    {
      "cell_type": "code",
      "metadata": {
        "id": "v1HbVIAUEf3X"
      },
      "source": [
        "def abt_predict(image):\n",
        "  \"\"\"\n",
        "  ฟังก์ชันสำหรับการทำนายภาพผลไม้ แอปเปื้ล กล้วย และมะเขือเทศ\n",
        "  Prediction Function \n",
        "  args: image (<class 'numpy.ndarray'>)\n",
        "  \"\"\"\n",
        "  resized = cv2.resize(image, (224, 224))\n",
        "  img_array = tf.keras.preprocessing.image.img_to_array(resized)\n",
        "  img_array = tf.expand_dims(img_array, 0)\n",
        "  pred = abt_model.predict(img_array)\n",
        "  score = pred[0]\n",
        "\n",
        "  result = np.argmax(score)\n",
        "  if result == 0:\n",
        "    print('prediction: this is apple')\n",
        "  if result == 1:\n",
        "    print('prediction: this is banana')\n",
        "  if result == 2:\n",
        "    print(\"prediction: this is tomato\")\n",
        "\n",
        "  print(\"prediction score: Apple {:.2f} %\".format(score[0]*100))\n",
        "  print(\"prediction score: Banana {:.2f} %\".format(score[1]*100))\n",
        "  print(\"prediction score: Tomato {:.2f} %\".format(score[2]*100))\n",
        "  print(\"----------\")\n",
        "  return score"
      ],
      "execution_count": 69,
      "outputs": []
    },
    {
      "cell_type": "markdown",
      "metadata": {
        "id": "JvC-yKkYKiH-"
      },
      "source": [
        "### view count of image and import library for random"
      ]
    },
    {
      "cell_type": "code",
      "metadata": {
        "colab": {
          "base_uri": "https://localhost:8080/"
        },
        "id": "ePKmVfMTHvLY",
        "outputId": "e880ca91-3e99-4669-84cd-3b8c90bec6c7"
      },
      "source": [
        "print(\"All test image in 3 class apple, banana, tomato\")\n",
        "!ls /content/fruit-ds/test/*/* | wc -l \n",
        "\n",
        "print(\"\\n------------------\")\n",
        "\n",
        "print(\"Apple image count\")\n",
        "!ls /content/fruit-ds/test/apple/* | wc -l \n",
        "\n",
        "print(\"\\n------------------\")\n",
        "\n",
        "print(\"Banana Image Count\")\n",
        "!ls /content/fruit-ds/test/banana/* | wc -l \n",
        "\n",
        "print(\"\\n------------------\")\n",
        "\n",
        "print(\"Tomato Image Count\")\n",
        "!ls /content/fruit-ds/test/tomato/* | wc -l "
      ],
      "execution_count": 70,
      "outputs": [
        {
          "output_type": "stream",
          "name": "stdout",
          "text": [
            "All test image in 3 class apple, banana, tomato\n",
            "2938\n",
            "\n",
            "------------------\n",
            "Apple image count\n",
            "1100\n",
            "\n",
            "------------------\n",
            "Banana Image Count\n",
            "484\n",
            "\n",
            "------------------\n",
            "Tomato Image Count\n",
            "1354\n"
          ]
        }
      ]
    },
    {
      "cell_type": "code",
      "metadata": {
        "id": "UVgHxiLsP47Z"
      },
      "source": [
        ""
      ],
      "execution_count": null,
      "outputs": []
    },
    {
      "cell_type": "code",
      "metadata": {
        "id": "vVyESvrHP5Ev"
      },
      "source": [
        ""
      ],
      "execution_count": null,
      "outputs": []
    },
    {
      "cell_type": "markdown",
      "metadata": {
        "id": "t-2bxyf4Knc6"
      },
      "source": [
        "### prediction use predict function by random image from test folder"
      ]
    },
    {
      "cell_type": "code",
      "metadata": {
        "id": "X6DDC_4kxX_J"
      },
      "source": [
        "import numpy as np\n",
        "import cv2\n",
        "from google.colab.patches import cv2_imshow\n",
        "from skimage.transform import resize\n",
        "from random import randint"
      ],
      "execution_count": 79,
      "outputs": []
    },
    {
      "cell_type": "code",
      "metadata": {
        "id": "i-SvguMOoXjC"
      },
      "source": [
        "test_data_path = '/content/fruit-ds/test'"
      ],
      "execution_count": 80,
      "outputs": []
    },
    {
      "cell_type": "markdown",
      "metadata": {
        "id": "Ea5Lz6i2KyFD"
      },
      "source": [
        "#### Apple"
      ]
    },
    {
      "cell_type": "code",
      "metadata": {
        "colab": {
          "base_uri": "https://localhost:8080/",
          "height": 1000
        },
        "id": "NtSqc5pF7rQk",
        "outputId": "eeb47130-dcba-493c-a78f-2fd310956f31"
      },
      "source": [
        "# Apple\n",
        "apple_pred = []\n",
        "for i in range(30):\n",
        "  im = cv2.imread(f'{test_data_path}/apple/apple ({randint(1,1000)}).jpg')\n",
        "  print(f\"apple figure({i+1})\")\n",
        "  cv2_imshow(cv2.resize(im, (30, 30)))\n",
        "  apple_pred.append(abt_predict(im))\n"
      ],
      "execution_count": 85,
      "outputs": [
        {
          "output_type": "stream",
          "name": "stdout",
          "text": [
            "apple figure(1)\n"
          ]
        },
        {
          "output_type": "display_data",
          "data": {
            "image/png": "[encoded data removed]",
            "text/plain": [
              "<PIL.Image.Image image mode=RGB size=30x30 at 0x7F89C22CAC10>"
            ]
          },
          "metadata": {}
        },
        {
          "output_type": "stream",
          "name": "stdout",
          "text": [
            "prediction: this is apple\n",
            "prediction score: Apple 96.57 %\n",
            "prediction score: Banana 0.58 %\n",
            "prediction score: Tomato 2.84 %\n",
            "----------\n",
            "apple figure(2)\n"
          ]
        },
        {
          "output_type": "display_data",
          "data": {
            "image/png": "[encoded data removed]",
            "text/plain": [
              "<PIL.Image.Image image mode=RGB size=30x30 at 0x7F89C22CA9D0>"
            ]
          },
          "metadata": {}
        },
        {
          "output_type": "stream",
          "name": "stdout",
          "text": [
            "prediction: this is tomato\n",
            "prediction score: Apple 9.57 %\n",
            "prediction score: Banana 0.52 %\n",
            "prediction score: Tomato 89.90 %\n",
            "----------\n",
            "apple figure(3)\n"
          ]
        },
        {
          "output_type": "display_data",
          "data": {
            "image/png": "[encoded data removed]",
            "text/plain": [
              "<PIL.Image.Image image mode=RGB size=30x30 at 0x7F8A343BCA10>"
            ]
          },
          "metadata": {}
        },
        {
          "output_type": "stream",
          "name": "stdout",
          "text": [
            "prediction: this is apple\n",
            "prediction score: Apple 98.86 %\n",
            "prediction score: Banana 0.29 %\n",
            "prediction score: Tomato 0.85 %\n",
            "----------\n",
            "apple figure(4)\n"
          ]
        },
        {
          "output_type": "display_data",
          "data": {
            "image/png": "[encoded data removed]",
            "text/plain": [
              "<PIL.Image.Image image mode=RGB size=30x30 at 0x7F8A3301E150>"
            ]
          },
          "metadata": {}
        },
        {
          "output_type": "stream",
          "name": "stdout",
          "text": [
            "prediction: this is apple\n",
            "prediction score: Apple 99.03 %\n",
            "prediction score: Banana 0.08 %\n",
            "prediction score: Tomato 0.89 %\n",
            "----------\n",
            "apple figure(5)\n"
          ]
        },
        {
          "output_type": "display_data",
          "data": {
            "image/png": "[encoded data removed]",
            "text/plain": [
              "<PIL.Image.Image image mode=RGB size=30x30 at 0x7F8A3301E090>"
            ]
          },
          "metadata": {}
        },
        {
          "output_type": "stream",
          "name": "stdout",
          "text": [
            "prediction: this is apple\n",
            "prediction score: Apple 99.41 %\n",
            "prediction score: Banana 0.15 %\n",
            "prediction score: Tomato 0.44 %\n",
            "----------\n",
            "apple figure(6)\n"
          ]
        },
        {
          "output_type": "display_data",
          "data": {
            "image/png": "[encoded data removed]",
            "text/plain": [
              "<PIL.Image.Image image mode=RGB size=30x30 at 0x7F89C2292110>"
            ]
          },
          "metadata": {}
        },
        {
          "output_type": "stream",
          "name": "stdout",
          "text": [
            "prediction: this is apple\n",
            "prediction score: Apple 88.95 %\n",
            "prediction score: Banana 0.29 %\n",
            "prediction score: Tomato 10.75 %\n",
            "----------\n",
            "apple figure(7)\n"
          ]
        },
        {
          "output_type": "display_data",
          "data": {
            "image/png": "[encoded data removed]",
            "text/plain": [
              "<PIL.Image.Image image mode=RGB size=30x30 at 0x7F89C2292650>"
            ]
          },
          "metadata": {}
        },
        {
          "output_type": "stream",
          "name": "stdout",
          "text": [
            "prediction: this is tomato\n",
            "prediction score: Apple 1.68 %\n",
            "prediction score: Banana 1.19 %\n",
            "prediction score: Tomato 97.13 %\n",
            "----------\n",
            "apple figure(8)\n"
          ]
        },
        {
          "output_type": "display_data",
          "data": {
            "image/png": "[encoded data removed]",
            "text/plain": [
              "<PIL.Image.Image image mode=RGB size=30x30 at 0x7F8AB571EC90>"
            ]
          },
          "metadata": {}
        },
        {
          "output_type": "stream",
          "name": "stdout",
          "text": [
            "prediction: this is apple\n",
            "prediction score: Apple 93.16 %\n",
            "prediction score: Banana 0.16 %\n",
            "prediction score: Tomato 6.68 %\n",
            "----------\n",
            "apple figure(9)\n"
          ]
        },
        {
          "output_type": "display_data",
          "data": {
            "image/png": "[encoded data removed]",
            "text/plain": [
              "<PIL.Image.Image image mode=RGB size=30x30 at 0x7F89C228D390>"
            ]
          },
          "metadata": {}
        },
        {
          "output_type": "stream",
          "name": "stdout",
          "text": [
            "prediction: this is apple\n",
            "prediction score: Apple 58.60 %\n",
            "prediction score: Banana 1.40 %\n",
            "prediction score: Tomato 40.00 %\n",
            "----------\n",
            "apple figure(10)\n"
          ]
        },
        {
          "output_type": "display_data",
          "data": {
            "image/png": "[encoded data removed]",
            "text/plain": [
              "<PIL.Image.Image image mode=RGB size=30x30 at 0x7F89C228D890>"
            ]
          },
          "metadata": {}
        },
        {
          "output_type": "stream",
          "name": "stdout",
          "text": [
            "prediction: this is apple\n",
            "prediction score: Apple 95.22 %\n",
            "prediction score: Banana 0.45 %\n",
            "prediction score: Tomato 4.33 %\n",
            "----------\n",
            "apple figure(11)\n"
          ]
        },
        {
          "output_type": "display_data",
          "data": {
            "image/png": "[encoded data removed]",
            "text/plain": [
              "<PIL.Image.Image image mode=RGB size=30x30 at 0x7F89C2333B10>"
            ]
          },
          "metadata": {}
        },
        {
          "output_type": "stream",
          "name": "stdout",
          "text": [
            "prediction: this is apple\n",
            "prediction score: Apple 72.81 %\n",
            "prediction score: Banana 0.25 %\n",
            "prediction score: Tomato 26.94 %\n",
            "----------\n",
            "apple figure(12)\n"
          ]
        },
        {
          "output_type": "display_data",
          "data": {
            "image/png": "[encoded data removed]",
            "text/plain": [
              "<PIL.Image.Image image mode=RGB size=30x30 at 0x7F89C2307C50>"
            ]
          },
          "metadata": {}
        },
        {
          "output_type": "stream",
          "name": "stdout",
          "text": [
            "prediction: this is apple\n",
            "prediction score: Apple 99.47 %\n",
            "prediction score: Banana 0.28 %\n",
            "prediction score: Tomato 0.24 %\n",
            "----------\n",
            "apple figure(13)\n"
          ]
        },
        {
          "output_type": "display_data",
          "data": {
            "image/png": "[encoded data removed]",
            "text/plain": [
              "<PIL.Image.Image image mode=RGB size=30x30 at 0x7F89C2298F90>"
            ]
          },
          "metadata": {}
        },
        {
          "output_type": "stream",
          "name": "stdout",
          "text": [
            "prediction: this is apple\n",
            "prediction score: Apple 99.74 %\n",
            "prediction score: Banana 0.05 %\n",
            "prediction score: Tomato 0.21 %\n",
            "----------\n",
            "apple figure(14)\n"
          ]
        },
        {
          "output_type": "display_data",
          "data": {
            "image/png": "[encoded data removed]",
            "text/plain": [
              "<PIL.Image.Image image mode=RGB size=30x30 at 0x7F89C230A990>"
            ]
          },
          "metadata": {}
        },
        {
          "output_type": "stream",
          "name": "stdout",
          "text": [
            "prediction: this is apple\n",
            "prediction score: Apple 77.79 %\n",
            "prediction score: Banana 1.36 %\n",
            "prediction score: Tomato 20.85 %\n",
            "----------\n",
            "apple figure(15)\n"
          ]
        },
        {
          "output_type": "display_data",
          "data": {
            "image/png": "[encoded data removed]",
            "text/plain": [
              "<PIL.Image.Image image mode=RGB size=30x30 at 0x7F89C2A78B90>"
            ]
          },
          "metadata": {}
        },
        {
          "output_type": "stream",
          "name": "stdout",
          "text": [
            "prediction: this is apple\n",
            "prediction score: Apple 73.71 %\n",
            "prediction score: Banana 0.33 %\n",
            "prediction score: Tomato 25.96 %\n",
            "----------\n",
            "apple figure(16)\n"
          ]
        },
        {
          "output_type": "display_data",
          "data": {
            "image/png": "[encoded data removed]",
            "text/plain": [
              "<PIL.Image.Image image mode=RGB size=30x30 at 0x7F89C2A819D0>"
            ]
          },
          "metadata": {}
        },
        {
          "output_type": "stream",
          "name": "stdout",
          "text": [
            "prediction: this is tomato\n",
            "prediction score: Apple 45.14 %\n",
            "prediction score: Banana 0.06 %\n",
            "prediction score: Tomato 54.81 %\n",
            "----------\n",
            "apple figure(17)\n"
          ]
        },
        {
          "output_type": "display_data",
          "data": {
            "image/png": "[encoded data removed]",
            "text/plain": [
              "<PIL.Image.Image image mode=RGB size=30x30 at 0x7F89C230A610>"
            ]
          },
          "metadata": {}
        },
        {
          "output_type": "stream",
          "name": "stdout",
          "text": [
            "prediction: this is tomato\n",
            "prediction score: Apple 5.64 %\n",
            "prediction score: Banana 0.41 %\n",
            "prediction score: Tomato 93.96 %\n",
            "----------\n",
            "apple figure(18)\n"
          ]
        },
        {
          "output_type": "display_data",
          "data": {
            "image/png": "[encoded data removed]",
            "text/plain": [
              "<PIL.Image.Image image mode=RGB size=30x30 at 0x7F89C2307D90>"
            ]
          },
          "metadata": {}
        },
        {
          "output_type": "stream",
          "name": "stdout",
          "text": [
            "prediction: this is tomato\n",
            "prediction score: Apple 13.40 %\n",
            "prediction score: Banana 1.16 %\n",
            "prediction score: Tomato 85.44 %\n",
            "----------\n",
            "apple figure(19)\n"
          ]
        },
        {
          "output_type": "display_data",
          "data": {
            "image/png": "[encoded data removed]",
            "text/plain": [
              "<PIL.Image.Image image mode=RGB size=30x30 at 0x7F8AB5725E10>"
            ]
          },
          "metadata": {}
        },
        {
          "output_type": "stream",
          "name": "stdout",
          "text": [
            "prediction: this is tomato\n",
            "prediction score: Apple 9.84 %\n",
            "prediction score: Banana 2.47 %\n",
            "prediction score: Tomato 87.69 %\n",
            "----------\n",
            "apple figure(20)\n"
          ]
        },
        {
          "output_type": "display_data",
          "data": {
            "image/png": "[encoded data removed]",
            "text/plain": [
              "<PIL.Image.Image image mode=RGB size=30x30 at 0x7F8AB5725E90>"
            ]
          },
          "metadata": {}
        },
        {
          "output_type": "stream",
          "name": "stdout",
          "text": [
            "prediction: this is tomato\n",
            "prediction score: Apple 3.40 %\n",
            "prediction score: Banana 5.88 %\n",
            "prediction score: Tomato 90.72 %\n",
            "----------\n",
            "apple figure(21)\n"
          ]
        },
        {
          "output_type": "display_data",
          "data": {
            "image/png": "[encoded data removed]",
            "text/plain": [
              "<PIL.Image.Image image mode=RGB size=30x30 at 0x7F89C2A78FD0>"
            ]
          },
          "metadata": {}
        },
        {
          "output_type": "stream",
          "name": "stdout",
          "text": [
            "prediction: this is apple\n",
            "prediction score: Apple 95.89 %\n",
            "prediction score: Banana 0.23 %\n",
            "prediction score: Tomato 3.88 %\n",
            "----------\n",
            "apple figure(22)\n"
          ]
        },
        {
          "output_type": "display_data",
          "data": {
            "image/png": "[encoded data removed]",
            "text/plain": [
              "<PIL.Image.Image image mode=RGB size=30x30 at 0x7F89C2A81950>"
            ]
          },
          "metadata": {}
        },
        {
          "output_type": "stream",
          "name": "stdout",
          "text": [
            "prediction: this is apple\n",
            "prediction score: Apple 70.10 %\n",
            "prediction score: Banana 0.17 %\n",
            "prediction score: Tomato 29.73 %\n",
            "----------\n",
            "apple figure(23)\n"
          ]
        },
        {
          "output_type": "display_data",
          "data": {
            "image/png": "[encoded data removed]",
            "text/plain": [
              "<PIL.Image.Image image mode=RGB size=30x30 at 0x7F89C423A910>"
            ]
          },
          "metadata": {}
        },
        {
          "output_type": "stream",
          "name": "stdout",
          "text": [
            "prediction: this is tomato\n",
            "prediction score: Apple 32.64 %\n",
            "prediction score: Banana 0.17 %\n",
            "prediction score: Tomato 67.18 %\n",
            "----------\n",
            "apple figure(24)\n"
          ]
        },
        {
          "output_type": "display_data",
          "data": {
            "image/png": "[encoded data removed]",
            "text/plain": [
              "<PIL.Image.Image image mode=RGB size=30x30 at 0x7F89C2A81B90>"
            ]
          },
          "metadata": {}
        },
        {
          "output_type": "stream",
          "name": "stdout",
          "text": [
            "prediction: this is apple\n",
            "prediction score: Apple 83.24 %\n",
            "prediction score: Banana 0.42 %\n",
            "prediction score: Tomato 16.35 %\n",
            "----------\n",
            "apple figure(25)\n"
          ]
        },
        {
          "output_type": "display_data",
          "data": {
            "image/png": "[encoded data removed]",
            "text/plain": [
              "<PIL.Image.Image image mode=RGB size=30x30 at 0x7F89C23158D0>"
            ]
          },
          "metadata": {}
        },
        {
          "output_type": "stream",
          "name": "stdout",
          "text": [
            "prediction: this is apple\n",
            "prediction score: Apple 52.39 %\n",
            "prediction score: Banana 12.33 %\n",
            "prediction score: Tomato 35.28 %\n",
            "----------\n",
            "apple figure(26)\n"
          ]
        },
        {
          "output_type": "display_data",
          "data": {
            "image/png": "[encoded data removed]",
            "text/plain": [
              "<PIL.Image.Image image mode=RGB size=30x30 at 0x7F89C22895D0>"
            ]
          },
          "metadata": {}
        },
        {
          "output_type": "stream",
          "name": "stdout",
          "text": [
            "prediction: this is apple\n",
            "prediction score: Apple 73.85 %\n",
            "prediction score: Banana 0.97 %\n",
            "prediction score: Tomato 25.17 %\n",
            "----------\n",
            "apple figure(27)\n"
          ]
        },
        {
          "output_type": "display_data",
          "data": {
            "image/png": "[encoded data removed]",
            "text/plain": [
              "<PIL.Image.Image image mode=RGB size=30x30 at 0x7F89C22895D0>"
            ]
          },
          "metadata": {}
        },
        {
          "output_type": "stream",
          "name": "stdout",
          "text": [
            "prediction: this is apple\n",
            "prediction score: Apple 99.83 %\n",
            "prediction score: Banana 0.06 %\n",
            "prediction score: Tomato 0.11 %\n",
            "----------\n",
            "apple figure(28)\n"
          ]
        },
        {
          "output_type": "display_data",
          "data": {
            "image/png": "[encoded data removed]",
            "text/plain": [
              "<PIL.Image.Image image mode=RGB size=30x30 at 0x7F89C2A38CD0>"
            ]
          },
          "metadata": {}
        },
        {
          "output_type": "stream",
          "name": "stdout",
          "text": [
            "prediction: this is apple\n",
            "prediction score: Apple 72.81 %\n",
            "prediction score: Banana 0.25 %\n",
            "prediction score: Tomato 26.94 %\n",
            "----------\n",
            "apple figure(29)\n"
          ]
        },
        {
          "output_type": "display_data",
          "data": {
            "image/png": "[encoded data removed]",
            "text/plain": [
              "<PIL.Image.Image image mode=RGB size=30x30 at 0x7F89C2B0D750>"
            ]
          },
          "metadata": {}
        },
        {
          "output_type": "stream",
          "name": "stdout",
          "text": [
            "prediction: this is tomato\n",
            "prediction score: Apple 31.77 %\n",
            "prediction score: Banana 4.02 %\n",
            "prediction score: Tomato 64.21 %\n",
            "----------\n",
            "apple figure(30)\n"
          ]
        },
        {
          "output_type": "display_data",
          "data": {
            "image/png": "[encoded data removed]",
            "text/plain": [
              "<PIL.Image.Image image mode=RGB size=30x30 at 0x7F8AB050DAD0>"
            ]
          },
          "metadata": {}
        },
        {
          "output_type": "stream",
          "name": "stdout",
          "text": [
            "prediction: this is apple\n",
            "prediction score: Apple 96.86 %\n",
            "prediction score: Banana 0.26 %\n",
            "prediction score: Tomato 2.88 %\n",
            "----------\n"
          ]
        }
      ]
    },
    {
      "cell_type": "code",
      "metadata": {
        "colab": {
          "base_uri": "https://localhost:8080/"
        },
        "id": "4G218drk3LYJ",
        "outputId": "307c89b2-8cc4-4e25-cd36-03001ac813a6"
      },
      "source": [
        "apple_pred"
      ],
      "execution_count": 86,
      "outputs": [
        {
          "output_type": "execute_result",
          "data": {
            "text/plain": [
              "[array([0.96574855, 0.00581834, 0.02843309], dtype=float32),\n",
              " array([0.09570242, 0.00524776, 0.8990499 ], dtype=float32),\n",
              " array([0.9885767 , 0.00294499, 0.00847831], dtype=float32),\n",
              " array([9.903010e-01, 8.128583e-04, 8.886093e-03], dtype=float32),\n",
              " array([0.9941263 , 0.00146616, 0.00440753], dtype=float32),\n",
              " array([0.8895431 , 0.00293251, 0.10752433], dtype=float32),\n",
              " array([0.0167718 , 0.01192507, 0.9713031 ], dtype=float32),\n",
              " array([0.93157494, 0.00162788, 0.06679715], dtype=float32),\n",
              " array([0.5859898 , 0.01397575, 0.4000345 ], dtype=float32),\n",
              " array([0.95216155, 0.0045213 , 0.04331717], dtype=float32),\n",
              " array([0.7281414 , 0.00249866, 0.26935992], dtype=float32),\n",
              " array([0.994749  , 0.0028074 , 0.00244357], dtype=float32),\n",
              " array([9.9741071e-01, 5.0725735e-04, 2.0820489e-03], dtype=float32),\n",
              " array([0.7779411 , 0.01360174, 0.20845713], dtype=float32),\n",
              " array([0.73708105, 0.00327255, 0.25964642], dtype=float32),\n",
              " array([0.45135835, 0.000556  , 0.54808563], dtype=float32),\n",
              " array([0.0563619 , 0.00406171, 0.93957645], dtype=float32),\n",
              " array([0.133989  , 0.01157355, 0.8544375 ], dtype=float32),\n",
              " array([0.09836888, 0.02473344, 0.87689775], dtype=float32),\n",
              " array([0.0339762, 0.05878  , 0.9072437], dtype=float32),\n",
              " array([0.95887405, 0.00231801, 0.03880788], dtype=float32),\n",
              " array([0.70101017, 0.0016563 , 0.29733354], dtype=float32),\n",
              " array([0.32644138, 0.00172255, 0.671836  ], dtype=float32),\n",
              " array([0.83237237, 0.00416947, 0.16345815], dtype=float32),\n",
              " array([0.5239237 , 0.12326831, 0.352808  ], dtype=float32),\n",
              " array([0.7385357 , 0.00972087, 0.2517434 ], dtype=float32),\n",
              " array([9.9830449e-01, 6.1917212e-04, 1.0763576e-03], dtype=float32),\n",
              " array([0.7281414 , 0.00249866, 0.26935992], dtype=float32),\n",
              " array([0.31768867, 0.04019661, 0.6421147 ], dtype=float32),\n",
              " array([0.9686046 , 0.00262766, 0.02876773], dtype=float32)]"
            ]
          },
          "metadata": {},
          "execution_count": 86
        }
      ]
    },
    {
      "cell_type": "code",
      "metadata": {
        "id": "bIrbUqF03ym1"
      },
      "source": [
        "def acc_average(abt_pred, label):\n",
        "  all_abt_score = []\n",
        "  for a in range(30):\n",
        "    abt_score = abt_pred[a][label]  # 0.96574855, 0.09570242, 0.9885767 ... 0.9686046\n",
        "    abt_score = abt_score * 100  # 96.57485485076904, 9.57024171948433 ... 96.86046242713928\n",
        "    abt_score = abt_score.astype(float)\n",
        "    abt_score = (\"{:.2f}\".format(abt_score)) # 96.57, 9.836 ... 96.86\n",
        "    abt_score = float(abt_score) #  str to float\n",
        "    all_abt_score.append(abt_score) # append to list\n",
        "\n",
        "  pred_average = sum(all_abt_score) / len(all_abt_score)\n",
        "\n",
        "  return pred_average"
      ],
      "execution_count": 126,
      "outputs": []
    },
    {
      "cell_type": "code",
      "metadata": {
        "colab": {
          "base_uri": "https://localhost:8080/"
        },
        "id": "CewWVWOT6QGu",
        "outputId": "1a305d15-438d-44ed-bcf6-579bedb12810"
      },
      "source": [
        "acc_average_apple = acc_average(apple_pred, 0)\n",
        "print(\"Apple average accuracy {:.2f} %\".format(acc_average_apple))"
      ],
      "execution_count": 127,
      "outputs": [
        {
          "output_type": "stream",
          "name": "stdout",
          "text": [
            "Apple average accuracy 65.05 %\n"
          ]
        }
      ]
    },
    {
      "cell_type": "markdown",
      "metadata": {
        "id": "8ytWBgbsKzs7"
      },
      "source": [
        "#### Banana"
      ]
    },
    {
      "cell_type": "code",
      "metadata": {
        "colab": {
          "base_uri": "https://localhost:8080/",
          "height": 1000
        },
        "id": "2D8mg6pT7sGr",
        "outputId": "7dbaec74-624f-41df-921d-d09ac4928887"
      },
      "source": [
        "# Banana\n",
        "banana_pred = []\n",
        "for i in range(30):\n",
        "  im = cv2.imread(f'{test_data_path}/banana/banana ({randint(1,480)}).jpg')\n",
        "  print(f\"banana figure({i+1})\")\n",
        "  cv2_imshow(cv2.resize(im, (30, 30)))\n",
        "  banana_pred.append(abt_predict(im))"
      ],
      "execution_count": 128,
      "outputs": [
        {
          "output_type": "stream",
          "name": "stdout",
          "text": [
            "banana figure(1)\n"
          ]
        },
        {
          "output_type": "display_data",
          "data": {
            "image/png": "[encoded data removed]",
            "text/plain": [
              "<PIL.Image.Image image mode=RGB size=30x30 at 0x7F89C2865410>"
            ]
          },
          "metadata": {}
        },
        {
          "output_type": "stream",
          "name": "stdout",
          "text": [
            "prediction: this is banana\n",
            "prediction score: Apple 0.00 %\n",
            "prediction score: Banana 100.00 %\n",
            "prediction score: Tomato 0.00 %\n",
            "----------\n",
            "banana figure(2)\n"
          ]
        },
        {
          "output_type": "display_data",
          "data": {
            "image/png": "[encoded data removed]",
            "text/plain": [
              "<PIL.Image.Image image mode=RGB size=30x30 at 0x7F89C2865450>"
            ]
          },
          "metadata": {}
        },
        {
          "output_type": "stream",
          "name": "stdout",
          "text": [
            "prediction: this is banana\n",
            "prediction score: Apple 0.00 %\n",
            "prediction score: Banana 100.00 %\n",
            "prediction score: Tomato 0.00 %\n",
            "----------\n",
            "banana figure(3)\n"
          ]
        },
        {
          "output_type": "display_data",
          "data": {
            "image/png": "[encoded data removed]",
            "text/plain": [
              "<PIL.Image.Image image mode=RGB size=30x30 at 0x7F89C29EFD50>"
            ]
          },
          "metadata": {}
        },
        {
          "output_type": "stream",
          "name": "stdout",
          "text": [
            "prediction: this is banana\n",
            "prediction score: Apple 0.00 %\n",
            "prediction score: Banana 99.95 %\n",
            "prediction score: Tomato 0.05 %\n",
            "----------\n",
            "banana figure(4)\n"
          ]
        },
        {
          "output_type": "display_data",
          "data": {
            "image/png": "[encoded data removed]",
            "text/plain": [
              "<PIL.Image.Image image mode=RGB size=30x30 at 0x7F89C2B2DA10>"
            ]
          },
          "metadata": {}
        },
        {
          "output_type": "stream",
          "name": "stdout",
          "text": [
            "prediction: this is banana\n",
            "prediction score: Apple 0.00 %\n",
            "prediction score: Banana 100.00 %\n",
            "prediction score: Tomato 0.00 %\n",
            "----------\n",
            "banana figure(5)\n"
          ]
        },
        {
          "output_type": "display_data",
          "data": {
            "image/png": "[encoded data removed]",
            "text/plain": [
              "<PIL.Image.Image image mode=RGB size=30x30 at 0x7F8A3186B090>"
            ]
          },
          "metadata": {}
        },
        {
          "output_type": "stream",
          "name": "stdout",
          "text": [
            "prediction: this is banana\n",
            "prediction score: Apple 0.00 %\n",
            "prediction score: Banana 99.99 %\n",
            "prediction score: Tomato 0.01 %\n",
            "----------\n",
            "banana figure(6)\n"
          ]
        },
        {
          "output_type": "display_data",
          "data": {
            "image/png": "[encoded data removed]",
            "text/plain": [
              "<PIL.Image.Image image mode=RGB size=30x30 at 0x7F89C230A190>"
            ]
          },
          "metadata": {}
        },
        {
          "output_type": "stream",
          "name": "stdout",
          "text": [
            "prediction: this is banana\n",
            "prediction score: Apple 0.00 %\n",
            "prediction score: Banana 100.00 %\n",
            "prediction score: Tomato 0.00 %\n",
            "----------\n",
            "banana figure(7)\n"
          ]
        },
        {
          "output_type": "display_data",
          "data": {
            "image/png": "[encoded data removed]",
            "text/plain": [
              "<PIL.Image.Image image mode=RGB size=30x30 at 0x7F89C4262210>"
            ]
          },
          "metadata": {}
        },
        {
          "output_type": "stream",
          "name": "stdout",
          "text": [
            "prediction: this is banana\n",
            "prediction score: Apple 0.00 %\n",
            "prediction score: Banana 100.00 %\n",
            "prediction score: Tomato 0.00 %\n",
            "----------\n",
            "banana figure(8)\n"
          ]
        },
        {
          "output_type": "display_data",
          "data": {
            "image/png": "[encoded data removed]",
            "text/plain": [
              "<PIL.Image.Image image mode=RGB size=30x30 at 0x7F8A343B2BD0>"
            ]
          },
          "metadata": {}
        },
        {
          "output_type": "stream",
          "name": "stdout",
          "text": [
            "prediction: this is banana\n",
            "prediction score: Apple 0.00 %\n",
            "prediction score: Banana 100.00 %\n",
            "prediction score: Tomato 0.00 %\n",
            "----------\n",
            "banana figure(9)\n"
          ]
        },
        {
          "output_type": "display_data",
          "data": {
            "image/png": "[encoded data removed]",
            "text/plain": [
              "<PIL.Image.Image image mode=RGB size=30x30 at 0x7F89C28B51D0>"
            ]
          },
          "metadata": {}
        },
        {
          "output_type": "stream",
          "name": "stdout",
          "text": [
            "prediction: this is banana\n",
            "prediction score: Apple 0.00 %\n",
            "prediction score: Banana 100.00 %\n",
            "prediction score: Tomato 0.00 %\n",
            "----------\n",
            "banana figure(10)\n"
          ]
        },
        {
          "output_type": "display_data",
          "data": {
            "image/png": "[encoded data removed]",
            "text/plain": [
              "<PIL.Image.Image image mode=RGB size=30x30 at 0x7F89C29AAA10>"
            ]
          },
          "metadata": {}
        },
        {
          "output_type": "stream",
          "name": "stdout",
          "text": [
            "prediction: this is banana\n",
            "prediction score: Apple 0.00 %\n",
            "prediction score: Banana 100.00 %\n",
            "prediction score: Tomato 0.00 %\n",
            "----------\n",
            "banana figure(11)\n"
          ]
        },
        {
          "output_type": "display_data",
          "data": {
            "image/png": "[encoded data removed]",
            "text/plain": [
              "<PIL.Image.Image image mode=RGB size=30x30 at 0x7F89C296E990>"
            ]
          },
          "metadata": {}
        },
        {
          "output_type": "stream",
          "name": "stdout",
          "text": [
            "prediction: this is banana\n",
            "prediction score: Apple 0.00 %\n",
            "prediction score: Banana 100.00 %\n",
            "prediction score: Tomato 0.00 %\n",
            "----------\n",
            "banana figure(12)\n"
          ]
        },
        {
          "output_type": "display_data",
          "data": {
            "image/png": "[encoded data removed]",
            "text/plain": [
              "<PIL.Image.Image image mode=RGB size=30x30 at 0x7F89C2A13710>"
            ]
          },
          "metadata": {}
        },
        {
          "output_type": "stream",
          "name": "stdout",
          "text": [
            "prediction: this is banana\n",
            "prediction score: Apple 0.00 %\n",
            "prediction score: Banana 99.20 %\n",
            "prediction score: Tomato 0.80 %\n",
            "----------\n",
            "banana figure(13)\n"
          ]
        },
        {
          "output_type": "display_data",
          "data": {
            "image/png": "[encoded data removed]",
            "text/plain": [
              "<PIL.Image.Image image mode=RGB size=30x30 at 0x7F89C2955BD0>"
            ]
          },
          "metadata": {}
        },
        {
          "output_type": "stream",
          "name": "stdout",
          "text": [
            "prediction: this is banana\n",
            "prediction score: Apple 0.00 %\n",
            "prediction score: Banana 100.00 %\n",
            "prediction score: Tomato 0.00 %\n",
            "----------\n",
            "banana figure(14)\n"
          ]
        },
        {
          "output_type": "display_data",
          "data": {
            "image/png": "[encoded data removed]",
            "text/plain": [
              "<PIL.Image.Image image mode=RGB size=30x30 at 0x7F89C28714D0>"
            ]
          },
          "metadata": {}
        },
        {
          "output_type": "stream",
          "name": "stdout",
          "text": [
            "prediction: this is banana\n",
            "prediction score: Apple 0.00 %\n",
            "prediction score: Banana 100.00 %\n",
            "prediction score: Tomato 0.00 %\n",
            "----------\n",
            "banana figure(15)\n"
          ]
        },
        {
          "output_type": "display_data",
          "data": {
            "image/png": "[encoded data removed]",
            "text/plain": [
              "<PIL.Image.Image image mode=RGB size=30x30 at 0x7F89C2871490>"
            ]
          },
          "metadata": {}
        },
        {
          "output_type": "stream",
          "name": "stdout",
          "text": [
            "prediction: this is banana\n",
            "prediction score: Apple 0.00 %\n",
            "prediction score: Banana 100.00 %\n",
            "prediction score: Tomato 0.00 %\n",
            "----------\n",
            "banana figure(16)\n"
          ]
        },
        {
          "output_type": "display_data",
          "data": {
            "image/png": "[encoded data removed]",
            "text/plain": [
              "<PIL.Image.Image image mode=RGB size=30x30 at 0x7F89C280B7D0>"
            ]
          },
          "metadata": {}
        },
        {
          "output_type": "stream",
          "name": "stdout",
          "text": [
            "prediction: this is banana\n",
            "prediction score: Apple 0.00 %\n",
            "prediction score: Banana 99.95 %\n",
            "prediction score: Tomato 0.05 %\n",
            "----------\n",
            "banana figure(17)\n"
          ]
        },
        {
          "output_type": "display_data",
          "data": {
            "image/png": "[encoded data removed]",
            "text/plain": [
              "<PIL.Image.Image image mode=RGB size=30x30 at 0x7F89C4262950>"
            ]
          },
          "metadata": {}
        },
        {
          "output_type": "stream",
          "name": "stdout",
          "text": [
            "prediction: this is banana\n",
            "prediction score: Apple 0.00 %\n",
            "prediction score: Banana 100.00 %\n",
            "prediction score: Tomato 0.00 %\n",
            "----------\n",
            "banana figure(18)\n"
          ]
        },
        {
          "output_type": "display_data",
          "data": {
            "image/png": "[encoded data removed]",
            "text/plain": [
              "<PIL.Image.Image image mode=RGB size=30x30 at 0x7F89C2B1A7D0>"
            ]
          },
          "metadata": {}
        },
        {
          "output_type": "stream",
          "name": "stdout",
          "text": [
            "prediction: this is banana\n",
            "prediction score: Apple 0.16 %\n",
            "prediction score: Banana 98.04 %\n",
            "prediction score: Tomato 1.80 %\n",
            "----------\n",
            "banana figure(19)\n"
          ]
        },
        {
          "output_type": "display_data",
          "data": {
            "image/png": "[encoded data removed]",
            "text/plain": [
              "<PIL.Image.Image image mode=RGB size=30x30 at 0x7F89C23155D0>"
            ]
          },
          "metadata": {}
        },
        {
          "output_type": "stream",
          "name": "stdout",
          "text": [
            "prediction: this is banana\n",
            "prediction score: Apple 0.00 %\n",
            "prediction score: Banana 100.00 %\n",
            "prediction score: Tomato 0.00 %\n",
            "----------\n",
            "banana figure(20)\n"
          ]
        },
        {
          "output_type": "display_data",
          "data": {
            "image/png": "[encoded data removed]",
            "text/plain": [
              "<PIL.Image.Image image mode=RGB size=30x30 at 0x7F89C2967250>"
            ]
          },
          "metadata": {}
        },
        {
          "output_type": "stream",
          "name": "stdout",
          "text": [
            "prediction: this is banana\n",
            "prediction score: Apple 0.00 %\n",
            "prediction score: Banana 99.89 %\n",
            "prediction score: Tomato 0.11 %\n",
            "----------\n",
            "banana figure(21)\n"
          ]
        },
        {
          "output_type": "display_data",
          "data": {
            "image/png": "[encoded data removed]",
            "text/plain": [
              "<PIL.Image.Image image mode=RGB size=30x30 at 0x7F89C2967250>"
            ]
          },
          "metadata": {}
        },
        {
          "output_type": "stream",
          "name": "stdout",
          "text": [
            "prediction: this is banana\n",
            "prediction score: Apple 0.02 %\n",
            "prediction score: Banana 99.79 %\n",
            "prediction score: Tomato 0.20 %\n",
            "----------\n",
            "banana figure(22)\n"
          ]
        },
        {
          "output_type": "display_data",
          "data": {
            "image/png": "[encoded data removed]",
            "text/plain": [
              "<PIL.Image.Image image mode=RGB size=30x30 at 0x7F89C29FBB50>"
            ]
          },
          "metadata": {}
        },
        {
          "output_type": "stream",
          "name": "stdout",
          "text": [
            "prediction: this is banana\n",
            "prediction score: Apple 0.31 %\n",
            "prediction score: Banana 99.62 %\n",
            "prediction score: Tomato 0.07 %\n",
            "----------\n",
            "banana figure(23)\n"
          ]
        },
        {
          "output_type": "display_data",
          "data": {
            "image/png": "[encoded data removed]",
            "text/plain": [
              "<PIL.Image.Image image mode=RGB size=30x30 at 0x7F89C285B810>"
            ]
          },
          "metadata": {}
        },
        {
          "output_type": "stream",
          "name": "stdout",
          "text": [
            "prediction: this is banana\n",
            "prediction score: Apple 0.00 %\n",
            "prediction score: Banana 99.97 %\n",
            "prediction score: Tomato 0.03 %\n",
            "----------\n",
            "banana figure(24)\n"
          ]
        },
        {
          "output_type": "display_data",
          "data": {
            "image/png": "[encoded data removed]",
            "text/plain": [
              "<PIL.Image.Image image mode=RGB size=30x30 at 0x7F89C27CDF90>"
            ]
          },
          "metadata": {}
        },
        {
          "output_type": "stream",
          "name": "stdout",
          "text": [
            "prediction: this is banana\n",
            "prediction score: Apple 0.00 %\n",
            "prediction score: Banana 100.00 %\n",
            "prediction score: Tomato 0.00 %\n",
            "----------\n",
            "banana figure(25)\n"
          ]
        },
        {
          "output_type": "display_data",
          "data": {
            "image/png": "[encoded data removed]",
            "text/plain": [
              "<PIL.Image.Image image mode=RGB size=30x30 at 0x7F89C28EA150>"
            ]
          },
          "metadata": {}
        },
        {
          "output_type": "stream",
          "name": "stdout",
          "text": [
            "prediction: this is banana\n",
            "prediction score: Apple 0.00 %\n",
            "prediction score: Banana 100.00 %\n",
            "prediction score: Tomato 0.00 %\n",
            "----------\n",
            "banana figure(26)\n"
          ]
        },
        {
          "output_type": "display_data",
          "data": {
            "image/png": "[encoded data removed]",
            "text/plain": [
              "<PIL.Image.Image image mode=RGB size=30x30 at 0x7F89C28F48D0>"
            ]
          },
          "metadata": {}
        },
        {
          "output_type": "stream",
          "name": "stdout",
          "text": [
            "prediction: this is banana\n",
            "prediction score: Apple 0.00 %\n",
            "prediction score: Banana 100.00 %\n",
            "prediction score: Tomato 0.00 %\n",
            "----------\n",
            "banana figure(27)\n"
          ]
        },
        {
          "output_type": "display_data",
          "data": {
            "image/png": "[encoded data removed]",
            "text/plain": [
              "<PIL.Image.Image image mode=RGB size=30x30 at 0x7F89C28F44D0>"
            ]
          },
          "metadata": {}
        },
        {
          "output_type": "stream",
          "name": "stdout",
          "text": [
            "prediction: this is banana\n",
            "prediction score: Apple 0.00 %\n",
            "prediction score: Banana 99.98 %\n",
            "prediction score: Tomato 0.02 %\n",
            "----------\n",
            "banana figure(28)\n"
          ]
        },
        {
          "output_type": "display_data",
          "data": {
            "image/png": "[encoded data removed]",
            "text/plain": [
              "<PIL.Image.Image image mode=RGB size=30x30 at 0x7F89C288FE10>"
            ]
          },
          "metadata": {}
        },
        {
          "output_type": "stream",
          "name": "stdout",
          "text": [
            "prediction: this is banana\n",
            "prediction score: Apple 0.00 %\n",
            "prediction score: Banana 100.00 %\n",
            "prediction score: Tomato 0.00 %\n",
            "----------\n",
            "banana figure(29)\n"
          ]
        },
        {
          "output_type": "display_data",
          "data": {
            "image/png": "[encoded data removed]",
            "text/plain": [
              "<PIL.Image.Image image mode=RGB size=30x30 at 0x7F8AB050FE50>"
            ]
          },
          "metadata": {}
        },
        {
          "output_type": "stream",
          "name": "stdout",
          "text": [
            "prediction: this is banana\n",
            "prediction score: Apple 0.00 %\n",
            "prediction score: Banana 100.00 %\n",
            "prediction score: Tomato 0.00 %\n",
            "----------\n",
            "banana figure(30)\n"
          ]
        },
        {
          "output_type": "display_data",
          "data": {
            "image/png": "[encoded data removed]",
            "text/plain": [
              "<PIL.Image.Image image mode=RGB size=30x30 at 0x7F89C29D60D0>"
            ]
          },
          "metadata": {}
        },
        {
          "output_type": "stream",
          "name": "stdout",
          "text": [
            "prediction: this is banana\n",
            "prediction score: Apple 0.00 %\n",
            "prediction score: Banana 99.94 %\n",
            "prediction score: Tomato 0.05 %\n",
            "----------\n"
          ]
        }
      ]
    },
    {
      "cell_type": "code",
      "metadata": {
        "colab": {
          "base_uri": "https://localhost:8080/"
        },
        "id": "20Eo1KwF7aiU",
        "outputId": "98f339f7-e9c7-433b-dacb-35d0c18996fc"
      },
      "source": [
        "acc_average_banana = acc_average(banana_pred, 1)\n",
        "print(\"Banana average accuracy {:.2f} %\".format(acc_average_banana))"
      ],
      "execution_count": 130,
      "outputs": [
        {
          "output_type": "stream",
          "name": "stdout",
          "text": [
            "Banana average accuracy 99.88 %\n"
          ]
        }
      ]
    },
    {
      "cell_type": "markdown",
      "metadata": {
        "id": "FBdFsoptK1Dj"
      },
      "source": [
        "#### Tomato"
      ]
    },
    {
      "cell_type": "code",
      "metadata": {
        "colab": {
          "base_uri": "https://localhost:8080/",
          "height": 1000
        },
        "id": "glKcm6Mv7tIr",
        "outputId": "e0255c35-d399-4eab-8b72-abe9325de443"
      },
      "source": [
        "# Tomato\n",
        "\"\"\"\n",
        "tomato (1000).jpg - tomato (2000).jpg\n",
        "\n",
        "\"\"\"\n",
        "tomato_pred = []\n",
        "for i in range(30):\n",
        "  im = cv2.imread(f'{test_data_path}/tomato/tomato ({randint(1,1000)}).jpg')\n",
        "  print(f\"tomato figure({i+1})\")\n",
        "  cv2_imshow(cv2.resize(im, (30, 30)))\n",
        "  tomato_pred.append(abt_predict(im))"
      ],
      "execution_count": 132,
      "outputs": [
        {
          "output_type": "stream",
          "name": "stdout",
          "text": [
            "tomato figure(1)\n"
          ]
        },
        {
          "output_type": "display_data",
          "data": {
            "image/png": "[encoded data removed]",
            "text/plain": [
              "<PIL.Image.Image image mode=RGB size=30x30 at 0x7F89C284B450>"
            ]
          },
          "metadata": {}
        },
        {
          "output_type": "stream",
          "name": "stdout",
          "text": [
            "prediction: this is tomato\n",
            "prediction score: Apple 0.08 %\n",
            "prediction score: Banana 0.22 %\n",
            "prediction score: Tomato 99.70 %\n",
            "----------\n",
            "tomato figure(2)\n"
          ]
        },
        {
          "output_type": "display_data",
          "data": {
            "image/png": "[encoded data removed]",
            "text/plain": [
              "<PIL.Image.Image image mode=RGB size=30x30 at 0x7F89C280BB50>"
            ]
          },
          "metadata": {}
        },
        {
          "output_type": "stream",
          "name": "stdout",
          "text": [
            "prediction: this is tomato\n",
            "prediction score: Apple 0.44 %\n",
            "prediction score: Banana 9.39 %\n",
            "prediction score: Tomato 90.16 %\n",
            "----------\n",
            "tomato figure(3)\n"
          ]
        },
        {
          "output_type": "display_data",
          "data": {
            "image/png": "[encoded data removed]",
            "text/plain": [
              "<PIL.Image.Image image mode=RGB size=30x30 at 0x7F8A330CDB50>"
            ]
          },
          "metadata": {}
        },
        {
          "output_type": "stream",
          "name": "stdout",
          "text": [
            "prediction: this is banana\n",
            "prediction score: Apple 33.52 %\n",
            "prediction score: Banana 62.94 %\n",
            "prediction score: Tomato 3.54 %\n",
            "----------\n",
            "tomato figure(4)\n"
          ]
        },
        {
          "output_type": "display_data",
          "data": {
            "image/png": "[encoded data removed]",
            "text/plain": [
              "<PIL.Image.Image image mode=RGB size=30x30 at 0x7F89C2A1A0D0>"
            ]
          },
          "metadata": {}
        },
        {
          "output_type": "stream",
          "name": "stdout",
          "text": [
            "prediction: this is tomato\n",
            "prediction score: Apple 0.90 %\n",
            "prediction score: Banana 0.30 %\n",
            "prediction score: Tomato 98.80 %\n",
            "----------\n",
            "tomato figure(5)\n"
          ]
        },
        {
          "output_type": "display_data",
          "data": {
            "image/png": "[encoded data removed]",
            "text/plain": [
              "<PIL.Image.Image image mode=RGB size=30x30 at 0x7F89C28C1F90>"
            ]
          },
          "metadata": {}
        },
        {
          "output_type": "stream",
          "name": "stdout",
          "text": [
            "prediction: this is tomato\n",
            "prediction score: Apple 0.37 %\n",
            "prediction score: Banana 6.48 %\n",
            "prediction score: Tomato 93.16 %\n",
            "----------\n",
            "tomato figure(6)\n"
          ]
        },
        {
          "output_type": "display_data",
          "data": {
            "image/png": "[encoded data removed]",
            "text/plain": [
              "<PIL.Image.Image image mode=RGB size=30x30 at 0x7F89C2333610>"
            ]
          },
          "metadata": {}
        },
        {
          "output_type": "stream",
          "name": "stdout",
          "text": [
            "prediction: this is tomato\n",
            "prediction score: Apple 3.15 %\n",
            "prediction score: Banana 0.39 %\n",
            "prediction score: Tomato 96.46 %\n",
            "----------\n",
            "tomato figure(7)\n"
          ]
        },
        {
          "output_type": "display_data",
          "data": {
            "image/png": "[encoded data removed]",
            "text/plain": [
              "<PIL.Image.Image image mode=RGB size=30x30 at 0x7F89C27ADC10>"
            ]
          },
          "metadata": {}
        },
        {
          "output_type": "stream",
          "name": "stdout",
          "text": [
            "prediction: this is tomato\n",
            "prediction score: Apple 0.00 %\n",
            "prediction score: Banana 0.28 %\n",
            "prediction score: Tomato 99.72 %\n",
            "----------\n",
            "tomato figure(8)\n"
          ]
        },
        {
          "output_type": "display_data",
          "data": {
            "image/png": "[encoded data removed]",
            "text/plain": [
              "<PIL.Image.Image image mode=RGB size=30x30 at 0x7F89C274AF90>"
            ]
          },
          "metadata": {}
        },
        {
          "output_type": "stream",
          "name": "stdout",
          "text": [
            "prediction: this is tomato\n",
            "prediction score: Apple 0.02 %\n",
            "prediction score: Banana 0.26 %\n",
            "prediction score: Tomato 99.72 %\n",
            "----------\n",
            "tomato figure(9)\n"
          ]
        },
        {
          "output_type": "display_data",
          "data": {
            "image/png": "[encoded data removed]",
            "text/plain": [
              "<PIL.Image.Image image mode=RGB size=30x30 at 0x7F89C27FF910>"
            ]
          },
          "metadata": {}
        },
        {
          "output_type": "stream",
          "name": "stdout",
          "text": [
            "prediction: this is tomato\n",
            "prediction score: Apple 1.17 %\n",
            "prediction score: Banana 0.63 %\n",
            "prediction score: Tomato 98.20 %\n",
            "----------\n",
            "tomato figure(10)\n"
          ]
        },
        {
          "output_type": "display_data",
          "data": {
            "image/png": "[encoded data removed]",
            "text/plain": [
              "<PIL.Image.Image image mode=RGB size=30x30 at 0x7F89C2775C10>"
            ]
          },
          "metadata": {}
        },
        {
          "output_type": "stream",
          "name": "stdout",
          "text": [
            "prediction: this is tomato\n",
            "prediction score: Apple 0.00 %\n",
            "prediction score: Banana 0.14 %\n",
            "prediction score: Tomato 99.86 %\n",
            "----------\n",
            "tomato figure(11)\n"
          ]
        },
        {
          "output_type": "display_data",
          "data": {
            "image/png": "[encoded data removed]",
            "text/plain": [
              "<PIL.Image.Image image mode=RGB size=30x30 at 0x7F89C2775C10>"
            ]
          },
          "metadata": {}
        },
        {
          "output_type": "stream",
          "name": "stdout",
          "text": [
            "prediction: this is tomato\n",
            "prediction score: Apple 0.00 %\n",
            "prediction score: Banana 0.02 %\n",
            "prediction score: Tomato 99.98 %\n",
            "----------\n",
            "tomato figure(12)\n"
          ]
        },
        {
          "output_type": "display_data",
          "data": {
            "image/png": "[encoded data removed]",
            "text/plain": [
              "<PIL.Image.Image image mode=RGB size=30x30 at 0x7F89C2B164D0>"
            ]
          },
          "metadata": {}
        },
        {
          "output_type": "stream",
          "name": "stdout",
          "text": [
            "prediction: this is tomato\n",
            "prediction score: Apple 1.98 %\n",
            "prediction score: Banana 0.35 %\n",
            "prediction score: Tomato 97.68 %\n",
            "----------\n",
            "tomato figure(13)\n"
          ]
        },
        {
          "output_type": "display_data",
          "data": {
            "image/png": "[encoded data removed]",
            "text/plain": [
              "<PIL.Image.Image image mode=RGB size=30x30 at 0x7F89C228DD90>"
            ]
          },
          "metadata": {}
        },
        {
          "output_type": "stream",
          "name": "stdout",
          "text": [
            "prediction: this is tomato\n",
            "prediction score: Apple 0.01 %\n",
            "prediction score: Banana 0.02 %\n",
            "prediction score: Tomato 99.97 %\n",
            "----------\n",
            "tomato figure(14)\n"
          ]
        },
        {
          "output_type": "display_data",
          "data": {
            "image/png": "[encoded data removed]",
            "text/plain": [
              "<PIL.Image.Image image mode=RGB size=30x30 at 0x7F89C2B0A650>"
            ]
          },
          "metadata": {}
        },
        {
          "output_type": "stream",
          "name": "stdout",
          "text": [
            "prediction: this is tomato\n",
            "prediction score: Apple 4.69 %\n",
            "prediction score: Banana 38.62 %\n",
            "prediction score: Tomato 56.70 %\n",
            "----------\n",
            "tomato figure(15)\n"
          ]
        },
        {
          "output_type": "display_data",
          "data": {
            "image/png": "[encoded data removed]",
            "text/plain": [
              "<PIL.Image.Image image mode=RGB size=30x30 at 0x7F89C28B00D0>"
            ]
          },
          "metadata": {}
        },
        {
          "output_type": "stream",
          "name": "stdout",
          "text": [
            "prediction: this is tomato\n",
            "prediction score: Apple 0.00 %\n",
            "prediction score: Banana 0.15 %\n",
            "prediction score: Tomato 99.85 %\n",
            "----------\n",
            "tomato figure(16)\n"
          ]
        },
        {
          "output_type": "display_data",
          "data": {
            "image/png": "[encoded data removed]",
            "text/plain": [
              "<PIL.Image.Image image mode=RGB size=30x30 at 0x7F89C27CDBD0>"
            ]
          },
          "metadata": {}
        },
        {
          "output_type": "stream",
          "name": "stdout",
          "text": [
            "prediction: this is tomato\n",
            "prediction score: Apple 0.00 %\n",
            "prediction score: Banana 0.03 %\n",
            "prediction score: Tomato 99.97 %\n",
            "----------\n",
            "tomato figure(17)\n"
          ]
        },
        {
          "output_type": "display_data",
          "data": {
            "image/png": "[encoded data removed]",
            "text/plain": [
              "<PIL.Image.Image image mode=RGB size=30x30 at 0x7F89C2779650>"
            ]
          },
          "metadata": {}
        },
        {
          "output_type": "stream",
          "name": "stdout",
          "text": [
            "prediction: this is tomato\n",
            "prediction score: Apple 0.81 %\n",
            "prediction score: Banana 5.60 %\n",
            "prediction score: Tomato 93.59 %\n",
            "----------\n",
            "tomato figure(18)\n"
          ]
        },
        {
          "output_type": "display_data",
          "data": {
            "image/png": "[encoded data removed]",
            "text/plain": [
              "<PIL.Image.Image image mode=RGB size=30x30 at 0x7F8A330CD750>"
            ]
          },
          "metadata": {}
        },
        {
          "output_type": "stream",
          "name": "stdout",
          "text": [
            "prediction: this is tomato\n",
            "prediction score: Apple 5.17 %\n",
            "prediction score: Banana 18.38 %\n",
            "prediction score: Tomato 76.45 %\n",
            "----------\n",
            "tomato figure(19)\n"
          ]
        },
        {
          "output_type": "display_data",
          "data": {
            "image/png": "[encoded data removed]",
            "text/plain": [
              "<PIL.Image.Image image mode=RGB size=30x30 at 0x7F89C2A2CF50>"
            ]
          },
          "metadata": {}
        },
        {
          "output_type": "stream",
          "name": "stdout",
          "text": [
            "prediction: this is tomato\n",
            "prediction score: Apple 0.06 %\n",
            "prediction score: Banana 1.38 %\n",
            "prediction score: Tomato 98.57 %\n",
            "----------\n",
            "tomato figure(20)\n"
          ]
        },
        {
          "output_type": "display_data",
          "data": {
            "image/png": "[encoded data removed]",
            "text/plain": [
              "<PIL.Image.Image image mode=RGB size=30x30 at 0x7F89C2B0CD50>"
            ]
          },
          "metadata": {}
        },
        {
          "output_type": "stream",
          "name": "stdout",
          "text": [
            "prediction: this is tomato\n",
            "prediction score: Apple 0.15 %\n",
            "prediction score: Banana 0.20 %\n",
            "prediction score: Tomato 99.65 %\n",
            "----------\n",
            "tomato figure(21)\n"
          ]
        },
        {
          "output_type": "display_data",
          "data": {
            "image/png": "[encoded data removed]",
            "text/plain": [
              "<PIL.Image.Image image mode=RGB size=30x30 at 0x7F89C285B490>"
            ]
          },
          "metadata": {}
        },
        {
          "output_type": "stream",
          "name": "stdout",
          "text": [
            "prediction: this is tomato\n",
            "prediction score: Apple 1.36 %\n",
            "prediction score: Banana 0.26 %\n",
            "prediction score: Tomato 98.38 %\n",
            "----------\n",
            "tomato figure(22)\n"
          ]
        },
        {
          "output_type": "display_data",
          "data": {
            "image/png": "[encoded data removed]",
            "text/plain": [
              "<PIL.Image.Image image mode=RGB size=30x30 at 0x7F89C280BB10>"
            ]
          },
          "metadata": {}
        },
        {
          "output_type": "stream",
          "name": "stdout",
          "text": [
            "prediction: this is tomato\n",
            "prediction score: Apple 0.51 %\n",
            "prediction score: Banana 0.44 %\n",
            "prediction score: Tomato 99.05 %\n",
            "----------\n",
            "tomato figure(23)\n"
          ]
        },
        {
          "output_type": "display_data",
          "data": {
            "image/png": "[encoded data removed]",
            "text/plain": [
              "<PIL.Image.Image image mode=RGB size=30x30 at 0x7F89C28F4B90>"
            ]
          },
          "metadata": {}
        },
        {
          "output_type": "stream",
          "name": "stdout",
          "text": [
            "prediction: this is tomato\n",
            "prediction score: Apple 0.00 %\n",
            "prediction score: Banana 0.04 %\n",
            "prediction score: Tomato 99.95 %\n",
            "----------\n",
            "tomato figure(24)\n"
          ]
        },
        {
          "output_type": "display_data",
          "data": {
            "image/png": "[encoded data removed]",
            "text/plain": [
              "<PIL.Image.Image image mode=RGB size=30x30 at 0x7F89C29296D0>"
            ]
          },
          "metadata": {}
        },
        {
          "output_type": "stream",
          "name": "stdout",
          "text": [
            "prediction: this is tomato\n",
            "prediction score: Apple 3.67 %\n",
            "prediction score: Banana 0.31 %\n",
            "prediction score: Tomato 96.02 %\n",
            "----------\n",
            "tomato figure(25)\n"
          ]
        },
        {
          "output_type": "display_data",
          "data": {
            "image/png": "[encoded data removed]",
            "text/plain": [
              "<PIL.Image.Image image mode=RGB size=30x30 at 0x7F89C2726A50>"
            ]
          },
          "metadata": {}
        },
        {
          "output_type": "stream",
          "name": "stdout",
          "text": [
            "prediction: this is tomato\n",
            "prediction score: Apple 3.73 %\n",
            "prediction score: Banana 28.42 %\n",
            "prediction score: Tomato 67.85 %\n",
            "----------\n",
            "tomato figure(26)\n"
          ]
        },
        {
          "output_type": "display_data",
          "data": {
            "image/png": "[encoded data removed]",
            "text/plain": [
              "<PIL.Image.Image image mode=RGB size=30x30 at 0x7F89C2775650>"
            ]
          },
          "metadata": {}
        },
        {
          "output_type": "stream",
          "name": "stdout",
          "text": [
            "prediction: this is banana\n",
            "prediction score: Apple 28.52 %\n",
            "prediction score: Banana 63.26 %\n",
            "prediction score: Tomato 8.22 %\n",
            "----------\n",
            "tomato figure(27)\n"
          ]
        },
        {
          "output_type": "display_data",
          "data": {
            "image/png": "[encoded data removed]",
            "text/plain": [
              "<PIL.Image.Image image mode=RGB size=30x30 at 0x7F89C2315A90>"
            ]
          },
          "metadata": {}
        },
        {
          "output_type": "stream",
          "name": "stdout",
          "text": [
            "prediction: this is tomato\n",
            "prediction score: Apple 0.14 %\n",
            "prediction score: Banana 3.52 %\n",
            "prediction score: Tomato 96.34 %\n",
            "----------\n",
            "tomato figure(28)\n"
          ]
        },
        {
          "output_type": "display_data",
          "data": {
            "image/png": "[encoded data removed]",
            "text/plain": [
              "<PIL.Image.Image image mode=RGB size=30x30 at 0x7F89C23158D0>"
            ]
          },
          "metadata": {}
        },
        {
          "output_type": "stream",
          "name": "stdout",
          "text": [
            "prediction: this is tomato\n",
            "prediction score: Apple 0.37 %\n",
            "prediction score: Banana 0.40 %\n",
            "prediction score: Tomato 99.23 %\n",
            "----------\n",
            "tomato figure(29)\n"
          ]
        },
        {
          "output_type": "display_data",
          "data": {
            "image/png": "[encoded data removed]",
            "text/plain": [
              "<PIL.Image.Image image mode=RGB size=30x30 at 0x7F89C2732750>"
            ]
          },
          "metadata": {}
        },
        {
          "output_type": "stream",
          "name": "stdout",
          "text": [
            "prediction: this is tomato\n",
            "prediction score: Apple 0.30 %\n",
            "prediction score: Banana 2.78 %\n",
            "prediction score: Tomato 96.92 %\n",
            "----------\n",
            "tomato figure(30)\n"
          ]
        },
        {
          "output_type": "display_data",
          "data": {
            "image/png": "[encoded data removed]",
            "text/plain": [
              "<PIL.Image.Image image mode=RGB size=30x30 at 0x7F89C2830F10>"
            ]
          },
          "metadata": {}
        },
        {
          "output_type": "stream",
          "name": "stdout",
          "text": [
            "prediction: this is tomato\n",
            "prediction score: Apple 0.09 %\n",
            "prediction score: Banana 1.11 %\n",
            "prediction score: Tomato 98.80 %\n",
            "----------\n"
          ]
        }
      ]
    },
    {
      "cell_type": "code",
      "metadata": {
        "colab": {
          "base_uri": "https://localhost:8080/"
        },
        "id": "q5dpTIxW831z",
        "outputId": "83e0d545-b299-41af-b8e2-ad4f04c65d7c"
      },
      "source": [
        "acc_average_tomato = acc_average(tomato_pred, 2)\n",
        "print(\"Tomato average accuracy {:.2f} %\".format(acc_average_tomato))"
      ],
      "execution_count": 133,
      "outputs": [
        {
          "output_type": "stream",
          "name": "stdout",
          "text": [
            "Tomato average accuracy 88.75 %\n"
          ]
        }
      ]
    },
    {
      "cell_type": "markdown",
      "metadata": {
        "id": "2JuobFXJHNKF"
      },
      "source": [
        "## Save Model"
      ]
    },
    {
      "cell_type": "code",
      "metadata": {
        "colab": {
          "base_uri": "https://localhost:8080/"
        },
        "id": "THg8yKzs_WGw",
        "outputId": "af830f17-1012-4907-fb84-7fc133d46205"
      },
      "source": [
        "model.save('apple_banana_tomato_model', save_format='h5')"
      ],
      "execution_count": 134,
      "outputs": [
        {
          "output_type": "stream",
          "name": "stdout",
          "text": [
            "WARNING:tensorflow:Compiled the loaded model, but the compiled metrics have yet to be built. `model.compile_metrics` will be empty until you train or evaluate the model.\n"
          ]
        },
        {
          "output_type": "stream",
          "name": "stderr",
          "text": [
            "/usr/local/lib/python3.7/dist-packages/keras/utils/generic_utils.py:497: CustomMaskWarning: Custom mask layers require a config and must override get_config. When loading, the custom mask layer must be passed to the custom_objects argument.\n",
            "  category=CustomMaskWarning)\n"
          ]
        }
      ]
    }
  ]
}